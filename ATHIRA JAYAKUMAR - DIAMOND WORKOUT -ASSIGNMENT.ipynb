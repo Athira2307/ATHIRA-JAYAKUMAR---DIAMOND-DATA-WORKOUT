{
 "cells": [
  {
   "cell_type": "code",
   "execution_count": 353,
   "id": "ee78df33",
   "metadata": {},
   "outputs": [],
   "source": [
    "import pandas as pd\n",
    "import numpy as np"
   ]
  },
  {
   "cell_type": "code",
   "execution_count": 354,
   "id": "85504f8f",
   "metadata": {},
   "outputs": [],
   "source": [
    "import matplotlib.pyplot as plt\n",
    "import seaborn as sns"
   ]
  },
  {
   "cell_type": "code",
   "execution_count": 355,
   "id": "4705cc47",
   "metadata": {},
   "outputs": [],
   "source": [
    "data = pd.read_csv('C:/Users/athir/Downloads/diamonds_new.csv' )"
   ]
  },
  {
   "cell_type": "code",
   "execution_count": 356,
   "id": "b3140ac0",
   "metadata": {},
   "outputs": [
    {
     "data": {
      "text/html": [
       "<div>\n",
       "<style scoped>\n",
       "    .dataframe tbody tr th:only-of-type {\n",
       "        vertical-align: middle;\n",
       "    }\n",
       "\n",
       "    .dataframe tbody tr th {\n",
       "        vertical-align: top;\n",
       "    }\n",
       "\n",
       "    .dataframe thead th {\n",
       "        text-align: right;\n",
       "    }\n",
       "</style>\n",
       "<table border=\"1\" class=\"dataframe\">\n",
       "  <thead>\n",
       "    <tr style=\"text-align: right;\">\n",
       "      <th></th>\n",
       "      <th>carat</th>\n",
       "      <th>cut</th>\n",
       "      <th>color</th>\n",
       "      <th>clarity</th>\n",
       "      <th>table</th>\n",
       "      <th>x</th>\n",
       "      <th>y</th>\n",
       "      <th>z</th>\n",
       "      <th>price_new</th>\n",
       "    </tr>\n",
       "  </thead>\n",
       "  <tbody>\n",
       "    <tr>\n",
       "      <th>0</th>\n",
       "      <td>0.23</td>\n",
       "      <td>Ideal</td>\n",
       "      <td>E</td>\n",
       "      <td>SI2</td>\n",
       "      <td>55.0</td>\n",
       "      <td>3.95</td>\n",
       "      <td>3.98</td>\n",
       "      <td>2.43</td>\n",
       "      <td>163.0</td>\n",
       "    </tr>\n",
       "    <tr>\n",
       "      <th>1</th>\n",
       "      <td>0.21</td>\n",
       "      <td>Premium</td>\n",
       "      <td>E</td>\n",
       "      <td>SI1</td>\n",
       "      <td>61.0</td>\n",
       "      <td>3.89</td>\n",
       "      <td>3.84</td>\n",
       "      <td>2.31</td>\n",
       "      <td>163.0</td>\n",
       "    </tr>\n",
       "    <tr>\n",
       "      <th>2</th>\n",
       "      <td>0.23</td>\n",
       "      <td>Good</td>\n",
       "      <td>E</td>\n",
       "      <td>VS1</td>\n",
       "      <td>65.0</td>\n",
       "      <td>4.05</td>\n",
       "      <td>4.07</td>\n",
       "      <td>2.31</td>\n",
       "      <td>163.5</td>\n",
       "    </tr>\n",
       "    <tr>\n",
       "      <th>3</th>\n",
       "      <td>0.29</td>\n",
       "      <td>Premium</td>\n",
       "      <td>I</td>\n",
       "      <td>VS2</td>\n",
       "      <td>58.0</td>\n",
       "      <td>4.20</td>\n",
       "      <td>4.23</td>\n",
       "      <td>2.63</td>\n",
       "      <td>167.0</td>\n",
       "    </tr>\n",
       "    <tr>\n",
       "      <th>4</th>\n",
       "      <td>0.31</td>\n",
       "      <td>Good</td>\n",
       "      <td>J</td>\n",
       "      <td>SI2</td>\n",
       "      <td>58.0</td>\n",
       "      <td>4.34</td>\n",
       "      <td>4.35</td>\n",
       "      <td>2.75</td>\n",
       "      <td>167.5</td>\n",
       "    </tr>\n",
       "    <tr>\n",
       "      <th>...</th>\n",
       "      <td>...</td>\n",
       "      <td>...</td>\n",
       "      <td>...</td>\n",
       "      <td>...</td>\n",
       "      <td>...</td>\n",
       "      <td>...</td>\n",
       "      <td>...</td>\n",
       "      <td>...</td>\n",
       "      <td>...</td>\n",
       "    </tr>\n",
       "    <tr>\n",
       "      <th>53935</th>\n",
       "      <td>0.72</td>\n",
       "      <td>Ideal</td>\n",
       "      <td>D</td>\n",
       "      <td>SI1</td>\n",
       "      <td>57.0</td>\n",
       "      <td>5.75</td>\n",
       "      <td>5.76</td>\n",
       "      <td>3.50</td>\n",
       "      <td>1378.5</td>\n",
       "    </tr>\n",
       "    <tr>\n",
       "      <th>53936</th>\n",
       "      <td>0.72</td>\n",
       "      <td>Good</td>\n",
       "      <td>D</td>\n",
       "      <td>SI1</td>\n",
       "      <td>55.0</td>\n",
       "      <td>5.69</td>\n",
       "      <td>5.75</td>\n",
       "      <td>3.61</td>\n",
       "      <td>1378.5</td>\n",
       "    </tr>\n",
       "    <tr>\n",
       "      <th>53937</th>\n",
       "      <td>0.70</td>\n",
       "      <td>Very Good</td>\n",
       "      <td>D</td>\n",
       "      <td>SI1</td>\n",
       "      <td>60.0</td>\n",
       "      <td>5.66</td>\n",
       "      <td>5.68</td>\n",
       "      <td>3.56</td>\n",
       "      <td>1378.5</td>\n",
       "    </tr>\n",
       "    <tr>\n",
       "      <th>53938</th>\n",
       "      <td>0.86</td>\n",
       "      <td>Premium</td>\n",
       "      <td>H</td>\n",
       "      <td>SI2</td>\n",
       "      <td>58.0</td>\n",
       "      <td>6.15</td>\n",
       "      <td>6.12</td>\n",
       "      <td>3.74</td>\n",
       "      <td>1378.5</td>\n",
       "    </tr>\n",
       "    <tr>\n",
       "      <th>53939</th>\n",
       "      <td>0.75</td>\n",
       "      <td>Ideal</td>\n",
       "      <td>D</td>\n",
       "      <td>SI2</td>\n",
       "      <td>55.0</td>\n",
       "      <td>5.83</td>\n",
       "      <td>5.87</td>\n",
       "      <td>3.64</td>\n",
       "      <td>1378.5</td>\n",
       "    </tr>\n",
       "  </tbody>\n",
       "</table>\n",
       "<p>53940 rows × 9 columns</p>\n",
       "</div>"
      ],
      "text/plain": [
       "       carat        cut color clarity  table     x     y     z  price_new\n",
       "0       0.23      Ideal     E     SI2   55.0  3.95  3.98  2.43      163.0\n",
       "1       0.21    Premium     E     SI1   61.0  3.89  3.84  2.31      163.0\n",
       "2       0.23       Good     E     VS1   65.0  4.05  4.07  2.31      163.5\n",
       "3       0.29    Premium     I     VS2   58.0  4.20  4.23  2.63      167.0\n",
       "4       0.31       Good     J     SI2   58.0  4.34  4.35  2.75      167.5\n",
       "...      ...        ...   ...     ...    ...   ...   ...   ...        ...\n",
       "53935   0.72      Ideal     D     SI1   57.0  5.75  5.76  3.50     1378.5\n",
       "53936   0.72       Good     D     SI1   55.0  5.69  5.75  3.61     1378.5\n",
       "53937   0.70  Very Good     D     SI1   60.0  5.66  5.68  3.56     1378.5\n",
       "53938   0.86    Premium     H     SI2   58.0  6.15  6.12  3.74     1378.5\n",
       "53939   0.75      Ideal     D     SI2   55.0  5.83  5.87  3.64     1378.5\n",
       "\n",
       "[53940 rows x 9 columns]"
      ]
     },
     "execution_count": 356,
     "metadata": {},
     "output_type": "execute_result"
    }
   ],
   "source": [
    "data"
   ]
  },
  {
   "cell_type": "code",
   "execution_count": 357,
   "id": "58eb0004",
   "metadata": {},
   "outputs": [
    {
     "data": {
      "text/html": [
       "<div>\n",
       "<style scoped>\n",
       "    .dataframe tbody tr th:only-of-type {\n",
       "        vertical-align: middle;\n",
       "    }\n",
       "\n",
       "    .dataframe tbody tr th {\n",
       "        vertical-align: top;\n",
       "    }\n",
       "\n",
       "    .dataframe thead th {\n",
       "        text-align: right;\n",
       "    }\n",
       "</style>\n",
       "<table border=\"1\" class=\"dataframe\">\n",
       "  <thead>\n",
       "    <tr style=\"text-align: right;\">\n",
       "      <th></th>\n",
       "      <th>carat</th>\n",
       "      <th>cut</th>\n",
       "      <th>color</th>\n",
       "      <th>clarity</th>\n",
       "      <th>table</th>\n",
       "      <th>x</th>\n",
       "      <th>y</th>\n",
       "      <th>z</th>\n",
       "      <th>price_new</th>\n",
       "    </tr>\n",
       "  </thead>\n",
       "  <tbody>\n",
       "    <tr>\n",
       "      <th>0</th>\n",
       "      <td>0.23</td>\n",
       "      <td>Ideal</td>\n",
       "      <td>E</td>\n",
       "      <td>SI2</td>\n",
       "      <td>55.0</td>\n",
       "      <td>3.95</td>\n",
       "      <td>3.98</td>\n",
       "      <td>2.43</td>\n",
       "      <td>163.0</td>\n",
       "    </tr>\n",
       "    <tr>\n",
       "      <th>1</th>\n",
       "      <td>0.21</td>\n",
       "      <td>Premium</td>\n",
       "      <td>E</td>\n",
       "      <td>SI1</td>\n",
       "      <td>61.0</td>\n",
       "      <td>3.89</td>\n",
       "      <td>3.84</td>\n",
       "      <td>2.31</td>\n",
       "      <td>163.0</td>\n",
       "    </tr>\n",
       "    <tr>\n",
       "      <th>2</th>\n",
       "      <td>0.23</td>\n",
       "      <td>Good</td>\n",
       "      <td>E</td>\n",
       "      <td>VS1</td>\n",
       "      <td>65.0</td>\n",
       "      <td>4.05</td>\n",
       "      <td>4.07</td>\n",
       "      <td>2.31</td>\n",
       "      <td>163.5</td>\n",
       "    </tr>\n",
       "    <tr>\n",
       "      <th>3</th>\n",
       "      <td>0.29</td>\n",
       "      <td>Premium</td>\n",
       "      <td>I</td>\n",
       "      <td>VS2</td>\n",
       "      <td>58.0</td>\n",
       "      <td>4.20</td>\n",
       "      <td>4.23</td>\n",
       "      <td>2.63</td>\n",
       "      <td>167.0</td>\n",
       "    </tr>\n",
       "    <tr>\n",
       "      <th>4</th>\n",
       "      <td>0.31</td>\n",
       "      <td>Good</td>\n",
       "      <td>J</td>\n",
       "      <td>SI2</td>\n",
       "      <td>58.0</td>\n",
       "      <td>4.34</td>\n",
       "      <td>4.35</td>\n",
       "      <td>2.75</td>\n",
       "      <td>167.5</td>\n",
       "    </tr>\n",
       "  </tbody>\n",
       "</table>\n",
       "</div>"
      ],
      "text/plain": [
       "   carat      cut color clarity  table     x     y     z  price_new\n",
       "0   0.23    Ideal     E     SI2   55.0  3.95  3.98  2.43      163.0\n",
       "1   0.21  Premium     E     SI1   61.0  3.89  3.84  2.31      163.0\n",
       "2   0.23     Good     E     VS1   65.0  4.05  4.07  2.31      163.5\n",
       "3   0.29  Premium     I     VS2   58.0  4.20  4.23  2.63      167.0\n",
       "4   0.31     Good     J     SI2   58.0  4.34  4.35  2.75      167.5"
      ]
     },
     "execution_count": 357,
     "metadata": {},
     "output_type": "execute_result"
    }
   ],
   "source": [
    "data.head()"
   ]
  },
  {
   "cell_type": "code",
   "execution_count": 358,
   "id": "9a8c3e26",
   "metadata": {},
   "outputs": [
    {
     "data": {
      "text/html": [
       "<div>\n",
       "<style scoped>\n",
       "    .dataframe tbody tr th:only-of-type {\n",
       "        vertical-align: middle;\n",
       "    }\n",
       "\n",
       "    .dataframe tbody tr th {\n",
       "        vertical-align: top;\n",
       "    }\n",
       "\n",
       "    .dataframe thead th {\n",
       "        text-align: right;\n",
       "    }\n",
       "</style>\n",
       "<table border=\"1\" class=\"dataframe\">\n",
       "  <thead>\n",
       "    <tr style=\"text-align: right;\">\n",
       "      <th></th>\n",
       "      <th>carat</th>\n",
       "      <th>cut</th>\n",
       "      <th>color</th>\n",
       "      <th>clarity</th>\n",
       "      <th>table</th>\n",
       "      <th>x</th>\n",
       "      <th>y</th>\n",
       "      <th>z</th>\n",
       "      <th>price_new</th>\n",
       "    </tr>\n",
       "  </thead>\n",
       "  <tbody>\n",
       "    <tr>\n",
       "      <th>53935</th>\n",
       "      <td>0.72</td>\n",
       "      <td>Ideal</td>\n",
       "      <td>D</td>\n",
       "      <td>SI1</td>\n",
       "      <td>57.0</td>\n",
       "      <td>5.75</td>\n",
       "      <td>5.76</td>\n",
       "      <td>3.50</td>\n",
       "      <td>1378.5</td>\n",
       "    </tr>\n",
       "    <tr>\n",
       "      <th>53936</th>\n",
       "      <td>0.72</td>\n",
       "      <td>Good</td>\n",
       "      <td>D</td>\n",
       "      <td>SI1</td>\n",
       "      <td>55.0</td>\n",
       "      <td>5.69</td>\n",
       "      <td>5.75</td>\n",
       "      <td>3.61</td>\n",
       "      <td>1378.5</td>\n",
       "    </tr>\n",
       "    <tr>\n",
       "      <th>53937</th>\n",
       "      <td>0.70</td>\n",
       "      <td>Very Good</td>\n",
       "      <td>D</td>\n",
       "      <td>SI1</td>\n",
       "      <td>60.0</td>\n",
       "      <td>5.66</td>\n",
       "      <td>5.68</td>\n",
       "      <td>3.56</td>\n",
       "      <td>1378.5</td>\n",
       "    </tr>\n",
       "    <tr>\n",
       "      <th>53938</th>\n",
       "      <td>0.86</td>\n",
       "      <td>Premium</td>\n",
       "      <td>H</td>\n",
       "      <td>SI2</td>\n",
       "      <td>58.0</td>\n",
       "      <td>6.15</td>\n",
       "      <td>6.12</td>\n",
       "      <td>3.74</td>\n",
       "      <td>1378.5</td>\n",
       "    </tr>\n",
       "    <tr>\n",
       "      <th>53939</th>\n",
       "      <td>0.75</td>\n",
       "      <td>Ideal</td>\n",
       "      <td>D</td>\n",
       "      <td>SI2</td>\n",
       "      <td>55.0</td>\n",
       "      <td>5.83</td>\n",
       "      <td>5.87</td>\n",
       "      <td>3.64</td>\n",
       "      <td>1378.5</td>\n",
       "    </tr>\n",
       "  </tbody>\n",
       "</table>\n",
       "</div>"
      ],
      "text/plain": [
       "       carat        cut color clarity  table     x     y     z  price_new\n",
       "53935   0.72      Ideal     D     SI1   57.0  5.75  5.76  3.50     1378.5\n",
       "53936   0.72       Good     D     SI1   55.0  5.69  5.75  3.61     1378.5\n",
       "53937   0.70  Very Good     D     SI1   60.0  5.66  5.68  3.56     1378.5\n",
       "53938   0.86    Premium     H     SI2   58.0  6.15  6.12  3.74     1378.5\n",
       "53939   0.75      Ideal     D     SI2   55.0  5.83  5.87  3.64     1378.5"
      ]
     },
     "execution_count": 358,
     "metadata": {},
     "output_type": "execute_result"
    }
   ],
   "source": [
    "data.tail()"
   ]
  },
  {
   "cell_type": "code",
   "execution_count": 359,
   "id": "9d9a1afb",
   "metadata": {},
   "outputs": [
    {
     "name": "stdout",
     "output_type": "stream",
     "text": [
      "<class 'pandas.core.frame.DataFrame'>\n",
      "RangeIndex: 53940 entries, 0 to 53939\n",
      "Data columns (total 9 columns):\n",
      " #   Column     Non-Null Count  Dtype  \n",
      "---  ------     --------------  -----  \n",
      " 0   carat      53841 non-null  float64\n",
      " 1   cut        53940 non-null  object \n",
      " 2   color      53884 non-null  object \n",
      " 3   clarity    53940 non-null  object \n",
      " 4   table      53877 non-null  float64\n",
      " 5   x          53940 non-null  float64\n",
      " 6   y          53940 non-null  float64\n",
      " 7   z          53940 non-null  float64\n",
      " 8   price_new  53940 non-null  float64\n",
      "dtypes: float64(6), object(3)\n",
      "memory usage: 3.7+ MB\n"
     ]
    }
   ],
   "source": [
    "data.info()"
   ]
  },
  {
   "cell_type": "code",
   "execution_count": 360,
   "id": "2bca89a7",
   "metadata": {},
   "outputs": [
    {
     "data": {
      "text/plain": [
       "Index(['carat', 'cut', 'color', 'clarity', 'table', 'x', 'y', 'z',\n",
       "       'price_new'],\n",
       "      dtype='object')"
      ]
     },
     "execution_count": 360,
     "metadata": {},
     "output_type": "execute_result"
    }
   ],
   "source": [
    "data.columns"
   ]
  },
  {
   "cell_type": "code",
   "execution_count": 361,
   "id": "20f7e2ff",
   "metadata": {},
   "outputs": [
    {
     "data": {
      "text/html": [
       "<div>\n",
       "<style scoped>\n",
       "    .dataframe tbody tr th:only-of-type {\n",
       "        vertical-align: middle;\n",
       "    }\n",
       "\n",
       "    .dataframe tbody tr th {\n",
       "        vertical-align: top;\n",
       "    }\n",
       "\n",
       "    .dataframe thead th {\n",
       "        text-align: right;\n",
       "    }\n",
       "</style>\n",
       "<table border=\"1\" class=\"dataframe\">\n",
       "  <thead>\n",
       "    <tr style=\"text-align: right;\">\n",
       "      <th></th>\n",
       "      <th>cut</th>\n",
       "      <th>color</th>\n",
       "      <th>clarity</th>\n",
       "    </tr>\n",
       "  </thead>\n",
       "  <tbody>\n",
       "    <tr>\n",
       "      <th>0</th>\n",
       "      <td>Ideal</td>\n",
       "      <td>E</td>\n",
       "      <td>SI2</td>\n",
       "    </tr>\n",
       "    <tr>\n",
       "      <th>1</th>\n",
       "      <td>Premium</td>\n",
       "      <td>E</td>\n",
       "      <td>SI1</td>\n",
       "    </tr>\n",
       "    <tr>\n",
       "      <th>2</th>\n",
       "      <td>Good</td>\n",
       "      <td>E</td>\n",
       "      <td>VS1</td>\n",
       "    </tr>\n",
       "    <tr>\n",
       "      <th>3</th>\n",
       "      <td>Premium</td>\n",
       "      <td>I</td>\n",
       "      <td>VS2</td>\n",
       "    </tr>\n",
       "    <tr>\n",
       "      <th>4</th>\n",
       "      <td>Good</td>\n",
       "      <td>J</td>\n",
       "      <td>SI2</td>\n",
       "    </tr>\n",
       "    <tr>\n",
       "      <th>...</th>\n",
       "      <td>...</td>\n",
       "      <td>...</td>\n",
       "      <td>...</td>\n",
       "    </tr>\n",
       "    <tr>\n",
       "      <th>53935</th>\n",
       "      <td>Ideal</td>\n",
       "      <td>D</td>\n",
       "      <td>SI1</td>\n",
       "    </tr>\n",
       "    <tr>\n",
       "      <th>53936</th>\n",
       "      <td>Good</td>\n",
       "      <td>D</td>\n",
       "      <td>SI1</td>\n",
       "    </tr>\n",
       "    <tr>\n",
       "      <th>53937</th>\n",
       "      <td>Very Good</td>\n",
       "      <td>D</td>\n",
       "      <td>SI1</td>\n",
       "    </tr>\n",
       "    <tr>\n",
       "      <th>53938</th>\n",
       "      <td>Premium</td>\n",
       "      <td>H</td>\n",
       "      <td>SI2</td>\n",
       "    </tr>\n",
       "    <tr>\n",
       "      <th>53939</th>\n",
       "      <td>Ideal</td>\n",
       "      <td>D</td>\n",
       "      <td>SI2</td>\n",
       "    </tr>\n",
       "  </tbody>\n",
       "</table>\n",
       "<p>53940 rows × 3 columns</p>\n",
       "</div>"
      ],
      "text/plain": [
       "             cut color clarity\n",
       "0          Ideal     E     SI2\n",
       "1        Premium     E     SI1\n",
       "2           Good     E     VS1\n",
       "3        Premium     I     VS2\n",
       "4           Good     J     SI2\n",
       "...          ...   ...     ...\n",
       "53935      Ideal     D     SI1\n",
       "53936       Good     D     SI1\n",
       "53937  Very Good     D     SI1\n",
       "53938    Premium     H     SI2\n",
       "53939      Ideal     D     SI2\n",
       "\n",
       "[53940 rows x 3 columns]"
      ]
     },
     "execution_count": 361,
     "metadata": {},
     "output_type": "execute_result"
    }
   ],
   "source": [
    "data[['cut', 'color', 'clarity']]"
   ]
  },
  {
   "cell_type": "code",
   "execution_count": 362,
   "id": "ab737010",
   "metadata": {},
   "outputs": [
    {
     "data": {
      "text/plain": [
       "(53940, 9)"
      ]
     },
     "execution_count": 362,
     "metadata": {},
     "output_type": "execute_result"
    }
   ],
   "source": [
    "data.shape"
   ]
  },
  {
   "cell_type": "code",
   "execution_count": 363,
   "id": "870e8251",
   "metadata": {},
   "outputs": [
    {
     "data": {
      "text/html": [
       "<div>\n",
       "<style scoped>\n",
       "    .dataframe tbody tr th:only-of-type {\n",
       "        vertical-align: middle;\n",
       "    }\n",
       "\n",
       "    .dataframe tbody tr th {\n",
       "        vertical-align: top;\n",
       "    }\n",
       "\n",
       "    .dataframe thead th {\n",
       "        text-align: right;\n",
       "    }\n",
       "</style>\n",
       "<table border=\"1\" class=\"dataframe\">\n",
       "  <thead>\n",
       "    <tr style=\"text-align: right;\">\n",
       "      <th></th>\n",
       "      <th>carat</th>\n",
       "      <th>table</th>\n",
       "      <th>x</th>\n",
       "      <th>y</th>\n",
       "      <th>z</th>\n",
       "      <th>price_new</th>\n",
       "    </tr>\n",
       "  </thead>\n",
       "  <tbody>\n",
       "    <tr>\n",
       "      <th>count</th>\n",
       "      <td>53841.000000</td>\n",
       "      <td>53877.000000</td>\n",
       "      <td>53940.000000</td>\n",
       "      <td>53940.000000</td>\n",
       "      <td>53940.000000</td>\n",
       "      <td>53940.000000</td>\n",
       "    </tr>\n",
       "    <tr>\n",
       "      <th>mean</th>\n",
       "      <td>0.798120</td>\n",
       "      <td>57.457719</td>\n",
       "      <td>5.731157</td>\n",
       "      <td>5.734526</td>\n",
       "      <td>3.539635</td>\n",
       "      <td>1966.399861</td>\n",
       "    </tr>\n",
       "    <tr>\n",
       "      <th>std</th>\n",
       "      <td>0.474428</td>\n",
       "      <td>2.235742</td>\n",
       "      <td>1.121761</td>\n",
       "      <td>1.142135</td>\n",
       "      <td>0.703869</td>\n",
       "      <td>1994.719869</td>\n",
       "    </tr>\n",
       "    <tr>\n",
       "      <th>min</th>\n",
       "      <td>0.200000</td>\n",
       "      <td>43.000000</td>\n",
       "      <td>0.000000</td>\n",
       "      <td>0.000000</td>\n",
       "      <td>0.000000</td>\n",
       "      <td>163.000000</td>\n",
       "    </tr>\n",
       "    <tr>\n",
       "      <th>25%</th>\n",
       "      <td>0.400000</td>\n",
       "      <td>56.000000</td>\n",
       "      <td>4.710000</td>\n",
       "      <td>4.720000</td>\n",
       "      <td>2.910000</td>\n",
       "      <td>475.000000</td>\n",
       "    </tr>\n",
       "    <tr>\n",
       "      <th>50%</th>\n",
       "      <td>0.700000</td>\n",
       "      <td>57.000000</td>\n",
       "      <td>5.700000</td>\n",
       "      <td>5.710000</td>\n",
       "      <td>3.530000</td>\n",
       "      <td>1200.500000</td>\n",
       "    </tr>\n",
       "    <tr>\n",
       "      <th>75%</th>\n",
       "      <td>1.040000</td>\n",
       "      <td>59.000000</td>\n",
       "      <td>6.540000</td>\n",
       "      <td>6.540000</td>\n",
       "      <td>4.040000</td>\n",
       "      <td>2662.125000</td>\n",
       "    </tr>\n",
       "    <tr>\n",
       "      <th>max</th>\n",
       "      <td>5.010000</td>\n",
       "      <td>95.000000</td>\n",
       "      <td>10.740000</td>\n",
       "      <td>58.900000</td>\n",
       "      <td>31.800000</td>\n",
       "      <td>9411.500000</td>\n",
       "    </tr>\n",
       "  </tbody>\n",
       "</table>\n",
       "</div>"
      ],
      "text/plain": [
       "              carat         table             x             y             z  \\\n",
       "count  53841.000000  53877.000000  53940.000000  53940.000000  53940.000000   \n",
       "mean       0.798120     57.457719      5.731157      5.734526      3.539635   \n",
       "std        0.474428      2.235742      1.121761      1.142135      0.703869   \n",
       "min        0.200000     43.000000      0.000000      0.000000      0.000000   \n",
       "25%        0.400000     56.000000      4.710000      4.720000      2.910000   \n",
       "50%        0.700000     57.000000      5.700000      5.710000      3.530000   \n",
       "75%        1.040000     59.000000      6.540000      6.540000      4.040000   \n",
       "max        5.010000     95.000000     10.740000     58.900000     31.800000   \n",
       "\n",
       "          price_new  \n",
       "count  53940.000000  \n",
       "mean    1966.399861  \n",
       "std     1994.719869  \n",
       "min      163.000000  \n",
       "25%      475.000000  \n",
       "50%     1200.500000  \n",
       "75%     2662.125000  \n",
       "max     9411.500000  "
      ]
     },
     "execution_count": 363,
     "metadata": {},
     "output_type": "execute_result"
    }
   ],
   "source": [
    "data.describe()"
   ]
  },
  {
   "cell_type": "code",
   "execution_count": 364,
   "id": "dde26a3e",
   "metadata": {},
   "outputs": [],
   "source": [
    "zero_index  =  data [(data['x'] == 0)  |  (data['y'] == 0) | (data['z'] == 0)].index\n"
   ]
  },
  {
   "cell_type": "code",
   "execution_count": 365,
   "id": "e8c6ddaf",
   "metadata": {},
   "outputs": [
    {
     "data": {
      "text/plain": [
       "Int64Index([11182, 11963, 15951, 24520, 26243, 27429, 49556, 49557], dtype='int64')"
      ]
     },
     "execution_count": 365,
     "metadata": {},
     "output_type": "execute_result"
    }
   ],
   "source": [
    "zero_index"
   ]
  },
  {
   "cell_type": "code",
   "execution_count": 366,
   "id": "68dfba31",
   "metadata": {},
   "outputs": [],
   "source": [
    "data1 =data.drop(zero_index)"
   ]
  },
  {
   "cell_type": "code",
   "execution_count": 367,
   "id": "2ea3c73a",
   "metadata": {},
   "outputs": [
    {
     "data": {
      "text/plain": [
       "(53932, 9)"
      ]
     },
     "execution_count": 367,
     "metadata": {},
     "output_type": "execute_result"
    }
   ],
   "source": [
    "data1.shape"
   ]
  },
  {
   "cell_type": "markdown",
   "id": "d252a438",
   "metadata": {},
   "source": [
    "# Outliers\n",
    "\n",
    "\n",
    "\n",
    "\n",
    "\n",
    "\n"
   ]
  },
  {
   "cell_type": "code",
   "execution_count": 368,
   "id": "8b48544d",
   "metadata": {},
   "outputs": [
    {
     "data": {
      "text/plain": [
       "Text(0.5, 1.0, ' Box Plot Of X Column')"
      ]
     },
     "execution_count": 368,
     "metadata": {},
     "output_type": "execute_result"
    },
    {
     "data": {
      "image/png": "[encoded data removed]",
      "text/plain": [
       "<Figure size 432x288 with 1 Axes>"
      ]
     },
     "metadata": {
      "needs_background": "light"
     },
     "output_type": "display_data"
    }
   ],
   "source": [
    "plt.boxplot(data1[\"x\"])\n",
    "plt.title(\" Box Plot Of X Column\")"
   ]
  },
  {
   "cell_type": "code",
   "execution_count": 369,
   "id": "dc66e4ea",
   "metadata": {},
   "outputs": [
    {
     "data": {
      "text/plain": [
       "Text(0.5, 1.0, ' Box Plot Of Y Column')"
      ]
     },
     "execution_count": 369,
     "metadata": {},
     "output_type": "execute_result"
    },
    {
     "data": {
      "image/png": "[encoded data removed]",
      "text/plain": [
       "<Figure size 432x288 with 1 Axes>"
      ]
     },
     "metadata": {
      "needs_background": "light"
     },
     "output_type": "display_data"
    }
   ],
   "source": [
    "plt.boxplot(data1[\"y\"])\n",
    "plt.title(\" Box Plot Of Y Column\")"
   ]
  },
  {
   "cell_type": "code",
   "execution_count": 370,
   "id": "ed695ea6",
   "metadata": {},
   "outputs": [
    {
     "data": {
      "text/plain": [
       "Text(0.5, 1.0, ' Box Plot Of z Column')"
      ]
     },
     "execution_count": 370,
     "metadata": {},
     "output_type": "execute_result"
    },
    {
     "data": {
      "image/png": "[encoded data removed]",
      "text/plain": [
       "<Figure size 432x288 with 1 Axes>"
      ]
     },
     "metadata": {
      "needs_background": "light"
     },
     "output_type": "display_data"
    }
   ],
   "source": [
    "plt.boxplot(data1[\"z\"])\n",
    "plt.title(\" Box Plot Of z Column\")"
   ]
  },
  {
   "cell_type": "code",
   "execution_count": 371,
   "id": "b808a5cc",
   "metadata": {},
   "outputs": [
    {
     "data": {
      "image/png": "[encoded data removed]",
      "text/plain": [
       "<Figure size 540x540 with 12 Axes>"
      ]
     },
     "metadata": {
      "needs_background": "light"
     },
     "output_type": "display_data"
    }
   ],
   "source": [
    "sns.pairplot(data1[['x','y','z']])\n",
    "plt.show()"
   ]
  },
  {
   "cell_type": "code",
   "execution_count": 372,
   "id": "772d96f3",
   "metadata": {},
   "outputs": [
    {
     "data": {
      "text/plain": [
       "Int64Index([24067, 49189], dtype='int64')"
      ]
     },
     "execution_count": 372,
     "metadata": {},
     "output_type": "execute_result"
    }
   ],
   "source": [
    "data1[data1['y']>30].index"
   ]
  },
  {
   "cell_type": "code",
   "execution_count": 373,
   "id": "c7718d2c",
   "metadata": {},
   "outputs": [
    {
     "data": {
      "text/plain": [
       "Int64Index([48410], dtype='int64')"
      ]
     },
     "execution_count": 373,
     "metadata": {},
     "output_type": "execute_result"
    }
   ],
   "source": [
    "data1[data1['z']>30].index"
   ]
  },
  {
   "cell_type": "code",
   "execution_count": 374,
   "id": "43bff6b8",
   "metadata": {},
   "outputs": [],
   "source": [
    "data2 = data1.drop([24067 , 49189 , 48410])"
   ]
  },
  {
   "cell_type": "code",
   "execution_count": 375,
   "id": "149dd56f",
   "metadata": {},
   "outputs": [
    {
     "data": {
      "text/html": [
       "<div>\n",
       "<style scoped>\n",
       "    .dataframe tbody tr th:only-of-type {\n",
       "        vertical-align: middle;\n",
       "    }\n",
       "\n",
       "    .dataframe tbody tr th {\n",
       "        vertical-align: top;\n",
       "    }\n",
       "\n",
       "    .dataframe thead th {\n",
       "        text-align: right;\n",
       "    }\n",
       "</style>\n",
       "<table border=\"1\" class=\"dataframe\">\n",
       "  <thead>\n",
       "    <tr style=\"text-align: right;\">\n",
       "      <th></th>\n",
       "      <th>carat</th>\n",
       "      <th>table</th>\n",
       "      <th>x</th>\n",
       "      <th>y</th>\n",
       "      <th>z</th>\n",
       "      <th>price_new</th>\n",
       "    </tr>\n",
       "  </thead>\n",
       "  <tbody>\n",
       "    <tr>\n",
       "      <th>count</th>\n",
       "      <td>53830.000000</td>\n",
       "      <td>53866.000000</td>\n",
       "      <td>53929.000000</td>\n",
       "      <td>53929.000000</td>\n",
       "      <td>53929.000000</td>\n",
       "      <td>53929.000000</td>\n",
       "    </tr>\n",
       "    <tr>\n",
       "      <th>mean</th>\n",
       "      <td>0.798048</td>\n",
       "      <td>57.457669</td>\n",
       "      <td>5.731986</td>\n",
       "      <td>5.733796</td>\n",
       "      <td>3.539523</td>\n",
       "      <td>1966.026702</td>\n",
       "    </tr>\n",
       "    <tr>\n",
       "      <th>std</th>\n",
       "      <td>0.474385</td>\n",
       "      <td>2.235320</td>\n",
       "      <td>1.119649</td>\n",
       "      <td>1.111501</td>\n",
       "      <td>0.691693</td>\n",
       "      <td>1994.334768</td>\n",
       "    </tr>\n",
       "    <tr>\n",
       "      <th>min</th>\n",
       "      <td>0.200000</td>\n",
       "      <td>43.000000</td>\n",
       "      <td>3.730000</td>\n",
       "      <td>3.680000</td>\n",
       "      <td>1.070000</td>\n",
       "      <td>163.000000</td>\n",
       "    </tr>\n",
       "    <tr>\n",
       "      <th>25%</th>\n",
       "      <td>0.400000</td>\n",
       "      <td>56.000000</td>\n",
       "      <td>4.710000</td>\n",
       "      <td>4.720000</td>\n",
       "      <td>2.910000</td>\n",
       "      <td>474.500000</td>\n",
       "    </tr>\n",
       "    <tr>\n",
       "      <th>50%</th>\n",
       "      <td>0.700000</td>\n",
       "      <td>57.000000</td>\n",
       "      <td>5.700000</td>\n",
       "      <td>5.710000</td>\n",
       "      <td>3.530000</td>\n",
       "      <td>1200.500000</td>\n",
       "    </tr>\n",
       "    <tr>\n",
       "      <th>75%</th>\n",
       "      <td>1.040000</td>\n",
       "      <td>59.000000</td>\n",
       "      <td>6.540000</td>\n",
       "      <td>6.540000</td>\n",
       "      <td>4.040000</td>\n",
       "      <td>2662.000000</td>\n",
       "    </tr>\n",
       "    <tr>\n",
       "      <th>max</th>\n",
       "      <td>5.010000</td>\n",
       "      <td>95.000000</td>\n",
       "      <td>10.740000</td>\n",
       "      <td>10.540000</td>\n",
       "      <td>6.980000</td>\n",
       "      <td>9411.500000</td>\n",
       "    </tr>\n",
       "  </tbody>\n",
       "</table>\n",
       "</div>"
      ],
      "text/plain": [
       "              carat         table             x             y             z  \\\n",
       "count  53830.000000  53866.000000  53929.000000  53929.000000  53929.000000   \n",
       "mean       0.798048     57.457669      5.731986      5.733796      3.539523   \n",
       "std        0.474385      2.235320      1.119649      1.111501      0.691693   \n",
       "min        0.200000     43.000000      3.730000      3.680000      1.070000   \n",
       "25%        0.400000     56.000000      4.710000      4.720000      2.910000   \n",
       "50%        0.700000     57.000000      5.700000      5.710000      3.530000   \n",
       "75%        1.040000     59.000000      6.540000      6.540000      4.040000   \n",
       "max        5.010000     95.000000     10.740000     10.540000      6.980000   \n",
       "\n",
       "          price_new  \n",
       "count  53929.000000  \n",
       "mean    1966.026702  \n",
       "std     1994.334768  \n",
       "min      163.000000  \n",
       "25%      474.500000  \n",
       "50%     1200.500000  \n",
       "75%     2662.000000  \n",
       "max     9411.500000  "
      ]
     },
     "execution_count": 375,
     "metadata": {},
     "output_type": "execute_result"
    }
   ],
   "source": [
    "data2.describe()"
   ]
  },
  {
   "cell_type": "code",
   "execution_count": 376,
   "id": "454b55dd",
   "metadata": {},
   "outputs": [],
   "source": [
    "# FIRST FIND THE MISSING VALUE HANDLING ,label ENCODING  better, SCALING APPLY ALL THE SCALING , NORMALIZATION AND CORRELATION."
   ]
  },
  {
   "cell_type": "code",
   "execution_count": 377,
   "id": "99928d1c",
   "metadata": {},
   "outputs": [
    {
     "data": {
      "text/plain": [
       "(53929, 9)"
      ]
     },
     "execution_count": 377,
     "metadata": {},
     "output_type": "execute_result"
    }
   ],
   "source": [
    "data2.shape"
   ]
  },
  {
   "cell_type": "markdown",
   "id": "b1a56980",
   "metadata": {},
   "source": [
    "# MISSING VALUES HANDLING"
   ]
  },
  {
   "cell_type": "code",
   "execution_count": 378,
   "id": "0772a043",
   "metadata": {},
   "outputs": [
    {
     "data": {
      "text/html": [
       "<div>\n",
       "<style scoped>\n",
       "    .dataframe tbody tr th:only-of-type {\n",
       "        vertical-align: middle;\n",
       "    }\n",
       "\n",
       "    .dataframe tbody tr th {\n",
       "        vertical-align: top;\n",
       "    }\n",
       "\n",
       "    .dataframe thead th {\n",
       "        text-align: right;\n",
       "    }\n",
       "</style>\n",
       "<table border=\"1\" class=\"dataframe\">\n",
       "  <thead>\n",
       "    <tr style=\"text-align: right;\">\n",
       "      <th></th>\n",
       "      <th>carat</th>\n",
       "      <th>cut</th>\n",
       "      <th>color</th>\n",
       "      <th>clarity</th>\n",
       "      <th>table</th>\n",
       "      <th>x</th>\n",
       "      <th>y</th>\n",
       "      <th>z</th>\n",
       "      <th>price_new</th>\n",
       "    </tr>\n",
       "  </thead>\n",
       "  <tbody>\n",
       "    <tr>\n",
       "      <th>0</th>\n",
       "      <td>0.23</td>\n",
       "      <td>Ideal</td>\n",
       "      <td>E</td>\n",
       "      <td>SI2</td>\n",
       "      <td>55.0</td>\n",
       "      <td>3.95</td>\n",
       "      <td>3.98</td>\n",
       "      <td>2.43</td>\n",
       "      <td>163.0</td>\n",
       "    </tr>\n",
       "    <tr>\n",
       "      <th>1</th>\n",
       "      <td>0.21</td>\n",
       "      <td>Premium</td>\n",
       "      <td>E</td>\n",
       "      <td>SI1</td>\n",
       "      <td>61.0</td>\n",
       "      <td>3.89</td>\n",
       "      <td>3.84</td>\n",
       "      <td>2.31</td>\n",
       "      <td>163.0</td>\n",
       "    </tr>\n",
       "    <tr>\n",
       "      <th>2</th>\n",
       "      <td>0.23</td>\n",
       "      <td>Good</td>\n",
       "      <td>E</td>\n",
       "      <td>VS1</td>\n",
       "      <td>65.0</td>\n",
       "      <td>4.05</td>\n",
       "      <td>4.07</td>\n",
       "      <td>2.31</td>\n",
       "      <td>163.5</td>\n",
       "    </tr>\n",
       "    <tr>\n",
       "      <th>3</th>\n",
       "      <td>0.29</td>\n",
       "      <td>Premium</td>\n",
       "      <td>I</td>\n",
       "      <td>VS2</td>\n",
       "      <td>58.0</td>\n",
       "      <td>4.20</td>\n",
       "      <td>4.23</td>\n",
       "      <td>2.63</td>\n",
       "      <td>167.0</td>\n",
       "    </tr>\n",
       "    <tr>\n",
       "      <th>4</th>\n",
       "      <td>0.31</td>\n",
       "      <td>Good</td>\n",
       "      <td>J</td>\n",
       "      <td>SI2</td>\n",
       "      <td>58.0</td>\n",
       "      <td>4.34</td>\n",
       "      <td>4.35</td>\n",
       "      <td>2.75</td>\n",
       "      <td>167.5</td>\n",
       "    </tr>\n",
       "    <tr>\n",
       "      <th>...</th>\n",
       "      <td>...</td>\n",
       "      <td>...</td>\n",
       "      <td>...</td>\n",
       "      <td>...</td>\n",
       "      <td>...</td>\n",
       "      <td>...</td>\n",
       "      <td>...</td>\n",
       "      <td>...</td>\n",
       "      <td>...</td>\n",
       "    </tr>\n",
       "    <tr>\n",
       "      <th>53935</th>\n",
       "      <td>0.72</td>\n",
       "      <td>Ideal</td>\n",
       "      <td>D</td>\n",
       "      <td>SI1</td>\n",
       "      <td>57.0</td>\n",
       "      <td>5.75</td>\n",
       "      <td>5.76</td>\n",
       "      <td>3.50</td>\n",
       "      <td>1378.5</td>\n",
       "    </tr>\n",
       "    <tr>\n",
       "      <th>53936</th>\n",
       "      <td>0.72</td>\n",
       "      <td>Good</td>\n",
       "      <td>D</td>\n",
       "      <td>SI1</td>\n",
       "      <td>55.0</td>\n",
       "      <td>5.69</td>\n",
       "      <td>5.75</td>\n",
       "      <td>3.61</td>\n",
       "      <td>1378.5</td>\n",
       "    </tr>\n",
       "    <tr>\n",
       "      <th>53937</th>\n",
       "      <td>0.70</td>\n",
       "      <td>Very Good</td>\n",
       "      <td>D</td>\n",
       "      <td>SI1</td>\n",
       "      <td>60.0</td>\n",
       "      <td>5.66</td>\n",
       "      <td>5.68</td>\n",
       "      <td>3.56</td>\n",
       "      <td>1378.5</td>\n",
       "    </tr>\n",
       "    <tr>\n",
       "      <th>53938</th>\n",
       "      <td>0.86</td>\n",
       "      <td>Premium</td>\n",
       "      <td>H</td>\n",
       "      <td>SI2</td>\n",
       "      <td>58.0</td>\n",
       "      <td>6.15</td>\n",
       "      <td>6.12</td>\n",
       "      <td>3.74</td>\n",
       "      <td>1378.5</td>\n",
       "    </tr>\n",
       "    <tr>\n",
       "      <th>53939</th>\n",
       "      <td>0.75</td>\n",
       "      <td>Ideal</td>\n",
       "      <td>D</td>\n",
       "      <td>SI2</td>\n",
       "      <td>55.0</td>\n",
       "      <td>5.83</td>\n",
       "      <td>5.87</td>\n",
       "      <td>3.64</td>\n",
       "      <td>1378.5</td>\n",
       "    </tr>\n",
       "  </tbody>\n",
       "</table>\n",
       "<p>53929 rows × 9 columns</p>\n",
       "</div>"
      ],
      "text/plain": [
       "       carat        cut color clarity  table     x     y     z  price_new\n",
       "0       0.23      Ideal     E     SI2   55.0  3.95  3.98  2.43      163.0\n",
       "1       0.21    Premium     E     SI1   61.0  3.89  3.84  2.31      163.0\n",
       "2       0.23       Good     E     VS1   65.0  4.05  4.07  2.31      163.5\n",
       "3       0.29    Premium     I     VS2   58.0  4.20  4.23  2.63      167.0\n",
       "4       0.31       Good     J     SI2   58.0  4.34  4.35  2.75      167.5\n",
       "...      ...        ...   ...     ...    ...   ...   ...   ...        ...\n",
       "53935   0.72      Ideal     D     SI1   57.0  5.75  5.76  3.50     1378.5\n",
       "53936   0.72       Good     D     SI1   55.0  5.69  5.75  3.61     1378.5\n",
       "53937   0.70  Very Good     D     SI1   60.0  5.66  5.68  3.56     1378.5\n",
       "53938   0.86    Premium     H     SI2   58.0  6.15  6.12  3.74     1378.5\n",
       "53939   0.75      Ideal     D     SI2   55.0  5.83  5.87  3.64     1378.5\n",
       "\n",
       "[53929 rows x 9 columns]"
      ]
     },
     "execution_count": 378,
     "metadata": {},
     "output_type": "execute_result"
    }
   ],
   "source": [
    "data2"
   ]
  },
  {
   "cell_type": "code",
   "execution_count": 379,
   "id": "f54d477a",
   "metadata": {},
   "outputs": [
    {
     "name": "stdout",
     "output_type": "stream",
     "text": [
      "<class 'pandas.core.frame.DataFrame'>\n",
      "Int64Index: 53929 entries, 0 to 53939\n",
      "Data columns (total 9 columns):\n",
      " #   Column     Non-Null Count  Dtype  \n",
      "---  ------     --------------  -----  \n",
      " 0   carat      53830 non-null  float64\n",
      " 1   cut        53929 non-null  object \n",
      " 2   color      53873 non-null  object \n",
      " 3   clarity    53929 non-null  object \n",
      " 4   table      53866 non-null  float64\n",
      " 5   x          53929 non-null  float64\n",
      " 6   y          53929 non-null  float64\n",
      " 7   z          53929 non-null  float64\n",
      " 8   price_new  53929 non-null  float64\n",
      "dtypes: float64(6), object(3)\n",
      "memory usage: 4.1+ MB\n"
     ]
    }
   ],
   "source": [
    "data2.info()"
   ]
  },
  {
   "cell_type": "code",
   "execution_count": 380,
   "id": "c59a8cec",
   "metadata": {},
   "outputs": [
    {
     "data": {
      "text/plain": [
       "carat        99\n",
       "cut           0\n",
       "color        56\n",
       "clarity       0\n",
       "table        63\n",
       "x             0\n",
       "y             0\n",
       "z             0\n",
       "price_new     0\n",
       "dtype: int64"
      ]
     },
     "execution_count": 380,
     "metadata": {},
     "output_type": "execute_result"
    }
   ],
   "source": [
    "data2.isna().sum()"
   ]
  },
  {
   "cell_type": "code",
   "execution_count": 381,
   "id": "a07eba22",
   "metadata": {},
   "outputs": [],
   "source": [
    "for i in [ 'carat', 'table'] :     \n",
    "     data2[i]= data2[i].fillna(data2[i].median())"
   ]
  },
  {
   "cell_type": "code",
   "execution_count": 382,
   "id": "3b81b663",
   "metadata": {},
   "outputs": [
    {
     "data": {
      "text/plain": [
       "carat         0\n",
       "cut           0\n",
       "color        56\n",
       "clarity       0\n",
       "table         0\n",
       "x             0\n",
       "y             0\n",
       "z             0\n",
       "price_new     0\n",
       "dtype: int64"
      ]
     },
     "execution_count": 382,
     "metadata": {},
     "output_type": "execute_result"
    }
   ],
   "source": [
    "data2.isna().sum()"
   ]
  },
  {
   "cell_type": "code",
   "execution_count": 383,
   "id": "c3179d72",
   "metadata": {},
   "outputs": [],
   "source": [
    "from sklearn.impute  import SimpleImputer"
   ]
  },
  {
   "cell_type": "code",
   "execution_count": 384,
   "id": "a55a2773",
   "metadata": {},
   "outputs": [],
   "source": [
    "impute = SimpleImputer(missing_values=np.nan , strategy=\"most_frequent\")\n",
    "data2['color'] = impute.fit_transform(data2['color'].values.reshape(-1,1))"
   ]
  },
  {
   "cell_type": "code",
   "execution_count": 385,
   "id": "af3b2c7d",
   "metadata": {},
   "outputs": [
    {
     "data": {
      "text/plain": [
       "carat        0\n",
       "cut          0\n",
       "color        0\n",
       "clarity      0\n",
       "table        0\n",
       "x            0\n",
       "y            0\n",
       "z            0\n",
       "price_new    0\n",
       "dtype: int64"
      ]
     },
     "execution_count": 385,
     "metadata": {},
     "output_type": "execute_result"
    }
   ],
   "source": [
    "data2.isna().sum()"
   ]
  },
  {
   "cell_type": "markdown",
   "id": "41cf967a",
   "metadata": {},
   "source": [
    "# LABEL ENCODING"
   ]
  },
  {
   "cell_type": "code",
   "execution_count": 386,
   "id": "87686c21",
   "metadata": {},
   "outputs": [
    {
     "data": {
      "text/html": [
       "<div>\n",
       "<style scoped>\n",
       "    .dataframe tbody tr th:only-of-type {\n",
       "        vertical-align: middle;\n",
       "    }\n",
       "\n",
       "    .dataframe tbody tr th {\n",
       "        vertical-align: top;\n",
       "    }\n",
       "\n",
       "    .dataframe thead th {\n",
       "        text-align: right;\n",
       "    }\n",
       "</style>\n",
       "<table border=\"1\" class=\"dataframe\">\n",
       "  <thead>\n",
       "    <tr style=\"text-align: right;\">\n",
       "      <th></th>\n",
       "      <th>carat</th>\n",
       "      <th>cut</th>\n",
       "      <th>color</th>\n",
       "      <th>clarity</th>\n",
       "      <th>table</th>\n",
       "      <th>x</th>\n",
       "      <th>y</th>\n",
       "      <th>z</th>\n",
       "      <th>price_new</th>\n",
       "    </tr>\n",
       "  </thead>\n",
       "  <tbody>\n",
       "    <tr>\n",
       "      <th>0</th>\n",
       "      <td>0.23</td>\n",
       "      <td>Ideal</td>\n",
       "      <td>E</td>\n",
       "      <td>SI2</td>\n",
       "      <td>55.0</td>\n",
       "      <td>3.95</td>\n",
       "      <td>3.98</td>\n",
       "      <td>2.43</td>\n",
       "      <td>163.0</td>\n",
       "    </tr>\n",
       "    <tr>\n",
       "      <th>1</th>\n",
       "      <td>0.21</td>\n",
       "      <td>Premium</td>\n",
       "      <td>E</td>\n",
       "      <td>SI1</td>\n",
       "      <td>61.0</td>\n",
       "      <td>3.89</td>\n",
       "      <td>3.84</td>\n",
       "      <td>2.31</td>\n",
       "      <td>163.0</td>\n",
       "    </tr>\n",
       "    <tr>\n",
       "      <th>2</th>\n",
       "      <td>0.23</td>\n",
       "      <td>Good</td>\n",
       "      <td>E</td>\n",
       "      <td>VS1</td>\n",
       "      <td>65.0</td>\n",
       "      <td>4.05</td>\n",
       "      <td>4.07</td>\n",
       "      <td>2.31</td>\n",
       "      <td>163.5</td>\n",
       "    </tr>\n",
       "    <tr>\n",
       "      <th>3</th>\n",
       "      <td>0.29</td>\n",
       "      <td>Premium</td>\n",
       "      <td>I</td>\n",
       "      <td>VS2</td>\n",
       "      <td>58.0</td>\n",
       "      <td>4.20</td>\n",
       "      <td>4.23</td>\n",
       "      <td>2.63</td>\n",
       "      <td>167.0</td>\n",
       "    </tr>\n",
       "    <tr>\n",
       "      <th>4</th>\n",
       "      <td>0.31</td>\n",
       "      <td>Good</td>\n",
       "      <td>J</td>\n",
       "      <td>SI2</td>\n",
       "      <td>58.0</td>\n",
       "      <td>4.34</td>\n",
       "      <td>4.35</td>\n",
       "      <td>2.75</td>\n",
       "      <td>167.5</td>\n",
       "    </tr>\n",
       "  </tbody>\n",
       "</table>\n",
       "</div>"
      ],
      "text/plain": [
       "   carat      cut color clarity  table     x     y     z  price_new\n",
       "0   0.23    Ideal     E     SI2   55.0  3.95  3.98  2.43      163.0\n",
       "1   0.21  Premium     E     SI1   61.0  3.89  3.84  2.31      163.0\n",
       "2   0.23     Good     E     VS1   65.0  4.05  4.07  2.31      163.5\n",
       "3   0.29  Premium     I     VS2   58.0  4.20  4.23  2.63      167.0\n",
       "4   0.31     Good     J     SI2   58.0  4.34  4.35  2.75      167.5"
      ]
     },
     "execution_count": 386,
     "metadata": {},
     "output_type": "execute_result"
    }
   ],
   "source": [
    "data2.head()"
   ]
  },
  {
   "cell_type": "code",
   "execution_count": 387,
   "id": "4e027578",
   "metadata": {},
   "outputs": [
    {
     "data": {
      "text/plain": [
       "carat        0\n",
       "cut          0\n",
       "color        0\n",
       "clarity      0\n",
       "table        0\n",
       "x            0\n",
       "y            0\n",
       "z            0\n",
       "price_new    0\n",
       "dtype: int64"
      ]
     },
     "execution_count": 387,
     "metadata": {},
     "output_type": "execute_result"
    }
   ],
   "source": [
    "data2.isna().sum()"
   ]
  },
  {
   "cell_type": "code",
   "execution_count": 388,
   "id": "08a083ed",
   "metadata": {},
   "outputs": [
    {
     "data": {
      "text/plain": [
       "array(['SI2', 'SI1', 'VS1', 'VS2', 'VVS2', 'VVS1', 'I1', 'IF'],\n",
       "      dtype=object)"
      ]
     },
     "execution_count": 388,
     "metadata": {},
     "output_type": "execute_result"
    }
   ],
   "source": [
    "data2['clarity'].unique()"
   ]
  },
  {
   "cell_type": "code",
   "execution_count": 389,
   "id": "c49f8434",
   "metadata": {},
   "outputs": [
    {
     "data": {
      "text/plain": [
       "array(['E', 'I', 'J', 'H', 'F', 'G', 'D'], dtype=object)"
      ]
     },
     "execution_count": 389,
     "metadata": {},
     "output_type": "execute_result"
    }
   ],
   "source": [
    "data2['color'].unique()"
   ]
  },
  {
   "cell_type": "code",
   "execution_count": 390,
   "id": "462f5578",
   "metadata": {},
   "outputs": [
    {
     "data": {
      "text/plain": [
       "array(['Ideal', 'Premium', 'Good', 'Very Good', 'Fair'], dtype=object)"
      ]
     },
     "execution_count": 390,
     "metadata": {},
     "output_type": "execute_result"
    }
   ],
   "source": [
    "data2['cut'].unique()"
   ]
  },
  {
   "cell_type": "code",
   "execution_count": 391,
   "id": "d8a37eaf",
   "metadata": {},
   "outputs": [],
   "source": [
    "data2.replace({'cut': {'Fair': 5, 'Good': 4, 'Very Good': 3, 'Premium': 1,\n",
    "                                  'Ideal': 2 }},inplace=True)\n"
   ]
  },
  {
   "cell_type": "code",
   "execution_count": 392,
   "id": "3d2cf155",
   "metadata": {},
   "outputs": [
    {
     "data": {
      "text/html": [
       "<div>\n",
       "<style scoped>\n",
       "    .dataframe tbody tr th:only-of-type {\n",
       "        vertical-align: middle;\n",
       "    }\n",
       "\n",
       "    .dataframe tbody tr th {\n",
       "        vertical-align: top;\n",
       "    }\n",
       "\n",
       "    .dataframe thead th {\n",
       "        text-align: right;\n",
       "    }\n",
       "</style>\n",
       "<table border=\"1\" class=\"dataframe\">\n",
       "  <thead>\n",
       "    <tr style=\"text-align: right;\">\n",
       "      <th></th>\n",
       "      <th>carat</th>\n",
       "      <th>cut</th>\n",
       "      <th>color</th>\n",
       "      <th>clarity</th>\n",
       "      <th>table</th>\n",
       "      <th>x</th>\n",
       "      <th>y</th>\n",
       "      <th>z</th>\n",
       "      <th>price_new</th>\n",
       "    </tr>\n",
       "  </thead>\n",
       "  <tbody>\n",
       "    <tr>\n",
       "      <th>0</th>\n",
       "      <td>0.23</td>\n",
       "      <td>2</td>\n",
       "      <td>E</td>\n",
       "      <td>SI2</td>\n",
       "      <td>55.0</td>\n",
       "      <td>3.95</td>\n",
       "      <td>3.98</td>\n",
       "      <td>2.43</td>\n",
       "      <td>163.0</td>\n",
       "    </tr>\n",
       "    <tr>\n",
       "      <th>1</th>\n",
       "      <td>0.21</td>\n",
       "      <td>1</td>\n",
       "      <td>E</td>\n",
       "      <td>SI1</td>\n",
       "      <td>61.0</td>\n",
       "      <td>3.89</td>\n",
       "      <td>3.84</td>\n",
       "      <td>2.31</td>\n",
       "      <td>163.0</td>\n",
       "    </tr>\n",
       "    <tr>\n",
       "      <th>2</th>\n",
       "      <td>0.23</td>\n",
       "      <td>4</td>\n",
       "      <td>E</td>\n",
       "      <td>VS1</td>\n",
       "      <td>65.0</td>\n",
       "      <td>4.05</td>\n",
       "      <td>4.07</td>\n",
       "      <td>2.31</td>\n",
       "      <td>163.5</td>\n",
       "    </tr>\n",
       "    <tr>\n",
       "      <th>3</th>\n",
       "      <td>0.29</td>\n",
       "      <td>1</td>\n",
       "      <td>I</td>\n",
       "      <td>VS2</td>\n",
       "      <td>58.0</td>\n",
       "      <td>4.20</td>\n",
       "      <td>4.23</td>\n",
       "      <td>2.63</td>\n",
       "      <td>167.0</td>\n",
       "    </tr>\n",
       "    <tr>\n",
       "      <th>4</th>\n",
       "      <td>0.31</td>\n",
       "      <td>4</td>\n",
       "      <td>J</td>\n",
       "      <td>SI2</td>\n",
       "      <td>58.0</td>\n",
       "      <td>4.34</td>\n",
       "      <td>4.35</td>\n",
       "      <td>2.75</td>\n",
       "      <td>167.5</td>\n",
       "    </tr>\n",
       "  </tbody>\n",
       "</table>\n",
       "</div>"
      ],
      "text/plain": [
       "   carat  cut color clarity  table     x     y     z  price_new\n",
       "0   0.23    2     E     SI2   55.0  3.95  3.98  2.43      163.0\n",
       "1   0.21    1     E     SI1   61.0  3.89  3.84  2.31      163.0\n",
       "2   0.23    4     E     VS1   65.0  4.05  4.07  2.31      163.5\n",
       "3   0.29    1     I     VS2   58.0  4.20  4.23  2.63      167.0\n",
       "4   0.31    4     J     SI2   58.0  4.34  4.35  2.75      167.5"
      ]
     },
     "execution_count": 392,
     "metadata": {},
     "output_type": "execute_result"
    }
   ],
   "source": [
    "data2.head()"
   ]
  },
  {
   "cell_type": "code",
   "execution_count": 393,
   "id": "6f230fc8",
   "metadata": {},
   "outputs": [],
   "source": [
    "data2.replace({'clarity': {'SI2':7, 'SI1':6, 'VS1':4, 'VS2':5, 'VVS2':3, 'VVS1':2, 'I1':8, 'IF':1}},inplace=True)"
   ]
  },
  {
   "cell_type": "code",
   "execution_count": 394,
   "id": "a2b0fb46",
   "metadata": {},
   "outputs": [
    {
     "data": {
      "text/html": [
       "<div>\n",
       "<style scoped>\n",
       "    .dataframe tbody tr th:only-of-type {\n",
       "        vertical-align: middle;\n",
       "    }\n",
       "\n",
       "    .dataframe tbody tr th {\n",
       "        vertical-align: top;\n",
       "    }\n",
       "\n",
       "    .dataframe thead th {\n",
       "        text-align: right;\n",
       "    }\n",
       "</style>\n",
       "<table border=\"1\" class=\"dataframe\">\n",
       "  <thead>\n",
       "    <tr style=\"text-align: right;\">\n",
       "      <th></th>\n",
       "      <th>carat</th>\n",
       "      <th>cut</th>\n",
       "      <th>color</th>\n",
       "      <th>clarity</th>\n",
       "      <th>table</th>\n",
       "      <th>x</th>\n",
       "      <th>y</th>\n",
       "      <th>z</th>\n",
       "      <th>price_new</th>\n",
       "    </tr>\n",
       "  </thead>\n",
       "  <tbody>\n",
       "    <tr>\n",
       "      <th>0</th>\n",
       "      <td>0.23</td>\n",
       "      <td>2</td>\n",
       "      <td>E</td>\n",
       "      <td>7</td>\n",
       "      <td>55.0</td>\n",
       "      <td>3.95</td>\n",
       "      <td>3.98</td>\n",
       "      <td>2.43</td>\n",
       "      <td>163.0</td>\n",
       "    </tr>\n",
       "    <tr>\n",
       "      <th>1</th>\n",
       "      <td>0.21</td>\n",
       "      <td>1</td>\n",
       "      <td>E</td>\n",
       "      <td>6</td>\n",
       "      <td>61.0</td>\n",
       "      <td>3.89</td>\n",
       "      <td>3.84</td>\n",
       "      <td>2.31</td>\n",
       "      <td>163.0</td>\n",
       "    </tr>\n",
       "    <tr>\n",
       "      <th>2</th>\n",
       "      <td>0.23</td>\n",
       "      <td>4</td>\n",
       "      <td>E</td>\n",
       "      <td>4</td>\n",
       "      <td>65.0</td>\n",
       "      <td>4.05</td>\n",
       "      <td>4.07</td>\n",
       "      <td>2.31</td>\n",
       "      <td>163.5</td>\n",
       "    </tr>\n",
       "    <tr>\n",
       "      <th>3</th>\n",
       "      <td>0.29</td>\n",
       "      <td>1</td>\n",
       "      <td>I</td>\n",
       "      <td>5</td>\n",
       "      <td>58.0</td>\n",
       "      <td>4.20</td>\n",
       "      <td>4.23</td>\n",
       "      <td>2.63</td>\n",
       "      <td>167.0</td>\n",
       "    </tr>\n",
       "    <tr>\n",
       "      <th>4</th>\n",
       "      <td>0.31</td>\n",
       "      <td>4</td>\n",
       "      <td>J</td>\n",
       "      <td>7</td>\n",
       "      <td>58.0</td>\n",
       "      <td>4.34</td>\n",
       "      <td>4.35</td>\n",
       "      <td>2.75</td>\n",
       "      <td>167.5</td>\n",
       "    </tr>\n",
       "  </tbody>\n",
       "</table>\n",
       "</div>"
      ],
      "text/plain": [
       "   carat  cut color  clarity  table     x     y     z  price_new\n",
       "0   0.23    2     E        7   55.0  3.95  3.98  2.43      163.0\n",
       "1   0.21    1     E        6   61.0  3.89  3.84  2.31      163.0\n",
       "2   0.23    4     E        4   65.0  4.05  4.07  2.31      163.5\n",
       "3   0.29    1     I        5   58.0  4.20  4.23  2.63      167.0\n",
       "4   0.31    4     J        7   58.0  4.34  4.35  2.75      167.5"
      ]
     },
     "execution_count": 394,
     "metadata": {},
     "output_type": "execute_result"
    }
   ],
   "source": [
    "data2.head()"
   ]
  },
  {
   "cell_type": "code",
   "execution_count": 395,
   "id": "3680d67a",
   "metadata": {},
   "outputs": [],
   "source": [
    "from sklearn.preprocessing  import LabelEncoder \n",
    "label_encoder = LabelEncoder()"
   ]
  },
  {
   "cell_type": "code",
   "execution_count": 396,
   "id": "05f1b90d",
   "metadata": {},
   "outputs": [],
   "source": [
    "data2['color'] = label_encoder.fit_transform(data2['color'])"
   ]
  },
  {
   "cell_type": "code",
   "execution_count": 397,
   "id": "e93847fb",
   "metadata": {},
   "outputs": [
    {
     "data": {
      "text/html": [
       "<div>\n",
       "<style scoped>\n",
       "    .dataframe tbody tr th:only-of-type {\n",
       "        vertical-align: middle;\n",
       "    }\n",
       "\n",
       "    .dataframe tbody tr th {\n",
       "        vertical-align: top;\n",
       "    }\n",
       "\n",
       "    .dataframe thead th {\n",
       "        text-align: right;\n",
       "    }\n",
       "</style>\n",
       "<table border=\"1\" class=\"dataframe\">\n",
       "  <thead>\n",
       "    <tr style=\"text-align: right;\">\n",
       "      <th></th>\n",
       "      <th>carat</th>\n",
       "      <th>cut</th>\n",
       "      <th>color</th>\n",
       "      <th>clarity</th>\n",
       "      <th>table</th>\n",
       "      <th>x</th>\n",
       "      <th>y</th>\n",
       "      <th>z</th>\n",
       "      <th>price_new</th>\n",
       "    </tr>\n",
       "  </thead>\n",
       "  <tbody>\n",
       "    <tr>\n",
       "      <th>0</th>\n",
       "      <td>0.23</td>\n",
       "      <td>2</td>\n",
       "      <td>1</td>\n",
       "      <td>7</td>\n",
       "      <td>55.0</td>\n",
       "      <td>3.95</td>\n",
       "      <td>3.98</td>\n",
       "      <td>2.43</td>\n",
       "      <td>163.0</td>\n",
       "    </tr>\n",
       "    <tr>\n",
       "      <th>1</th>\n",
       "      <td>0.21</td>\n",
       "      <td>1</td>\n",
       "      <td>1</td>\n",
       "      <td>6</td>\n",
       "      <td>61.0</td>\n",
       "      <td>3.89</td>\n",
       "      <td>3.84</td>\n",
       "      <td>2.31</td>\n",
       "      <td>163.0</td>\n",
       "    </tr>\n",
       "    <tr>\n",
       "      <th>2</th>\n",
       "      <td>0.23</td>\n",
       "      <td>4</td>\n",
       "      <td>1</td>\n",
       "      <td>4</td>\n",
       "      <td>65.0</td>\n",
       "      <td>4.05</td>\n",
       "      <td>4.07</td>\n",
       "      <td>2.31</td>\n",
       "      <td>163.5</td>\n",
       "    </tr>\n",
       "    <tr>\n",
       "      <th>3</th>\n",
       "      <td>0.29</td>\n",
       "      <td>1</td>\n",
       "      <td>5</td>\n",
       "      <td>5</td>\n",
       "      <td>58.0</td>\n",
       "      <td>4.20</td>\n",
       "      <td>4.23</td>\n",
       "      <td>2.63</td>\n",
       "      <td>167.0</td>\n",
       "    </tr>\n",
       "    <tr>\n",
       "      <th>4</th>\n",
       "      <td>0.31</td>\n",
       "      <td>4</td>\n",
       "      <td>6</td>\n",
       "      <td>7</td>\n",
       "      <td>58.0</td>\n",
       "      <td>4.34</td>\n",
       "      <td>4.35</td>\n",
       "      <td>2.75</td>\n",
       "      <td>167.5</td>\n",
       "    </tr>\n",
       "  </tbody>\n",
       "</table>\n",
       "</div>"
      ],
      "text/plain": [
       "   carat  cut  color  clarity  table     x     y     z  price_new\n",
       "0   0.23    2      1        7   55.0  3.95  3.98  2.43      163.0\n",
       "1   0.21    1      1        6   61.0  3.89  3.84  2.31      163.0\n",
       "2   0.23    4      1        4   65.0  4.05  4.07  2.31      163.5\n",
       "3   0.29    1      5        5   58.0  4.20  4.23  2.63      167.0\n",
       "4   0.31    4      6        7   58.0  4.34  4.35  2.75      167.5"
      ]
     },
     "execution_count": 397,
     "metadata": {},
     "output_type": "execute_result"
    }
   ],
   "source": [
    "data2.head()"
   ]
  },
  {
   "cell_type": "code",
   "execution_count": 398,
   "id": "3fac6dc1",
   "metadata": {},
   "outputs": [],
   "source": [
    "# MACHINE LEARNING MODEL"
   ]
  },
  {
   "cell_type": "code",
   "execution_count": 399,
   "id": "c25b5cf2",
   "metadata": {},
   "outputs": [],
   "source": [
    "X = data2.drop('price_new' , axis =1)\n",
    "y = data2['price_new']"
   ]
  },
  {
   "cell_type": "code",
   "execution_count": 400,
   "id": "73e95448",
   "metadata": {},
   "outputs": [],
   "source": [
    "from sklearn.model_selection import train_test_split\n",
    "X_train , X_test , y_train , y_test = train_test_split( X , y , random_state =42 , test_size = 0.2 )"
   ]
  },
  {
   "cell_type": "code",
   "execution_count": 401,
   "id": "3880ce8f",
   "metadata": {},
   "outputs": [],
   "source": [
    "from sklearn.linear_model import LinearRegression\n"
   ]
  },
  {
   "cell_type": "code",
   "execution_count": 402,
   "id": "c2cd18fc",
   "metadata": {},
   "outputs": [],
   "source": [
    "lr = LinearRegression()\n",
    "model = lr.fit(X_train , y_train)\n",
    "predction = model.predict(X_test)"
   ]
  },
  {
   "cell_type": "code",
   "execution_count": 403,
   "id": "19521a20",
   "metadata": {},
   "outputs": [],
   "source": [
    "from sklearn.metrics import mean_squared_error , r2_score"
   ]
  },
  {
   "cell_type": "code",
   "execution_count": 404,
   "id": "e2034420",
   "metadata": {},
   "outputs": [
    {
     "name": "stdout",
     "output_type": "stream",
     "text": [
      " Mean Squared Error is :  359579.0102135184\n",
      " R- Squared value is :  0.9087966448887861\n"
     ]
    }
   ],
   "source": [
    "print(\" Mean Squared Error is : \" , mean_squared_error( y_test ,predction ) )\n",
    "print ( \" R- Squared value is : \" , r2_score ( y_test ,predction ) )"
   ]
  },
  {
   "cell_type": "code",
   "execution_count": 405,
   "id": "e58d6241",
   "metadata": {},
   "outputs": [],
   "source": [
    "# MIN MAX SCALING"
   ]
  },
  {
   "cell_type": "code",
   "execution_count": 406,
   "id": "ad8717bf",
   "metadata": {},
   "outputs": [
    {
     "data": {
      "text/html": [
       "<div>\n",
       "<style scoped>\n",
       "    .dataframe tbody tr th:only-of-type {\n",
       "        vertical-align: middle;\n",
       "    }\n",
       "\n",
       "    .dataframe tbody tr th {\n",
       "        vertical-align: top;\n",
       "    }\n",
       "\n",
       "    .dataframe thead th {\n",
       "        text-align: right;\n",
       "    }\n",
       "</style>\n",
       "<table border=\"1\" class=\"dataframe\">\n",
       "  <thead>\n",
       "    <tr style=\"text-align: right;\">\n",
       "      <th></th>\n",
       "      <th>carat</th>\n",
       "      <th>cut</th>\n",
       "      <th>color</th>\n",
       "      <th>clarity</th>\n",
       "      <th>table</th>\n",
       "      <th>x</th>\n",
       "      <th>y</th>\n",
       "      <th>z</th>\n",
       "    </tr>\n",
       "  </thead>\n",
       "  <tbody>\n",
       "    <tr>\n",
       "      <th>count</th>\n",
       "      <td>53929.000000</td>\n",
       "      <td>53929.000000</td>\n",
       "      <td>53929.000000</td>\n",
       "      <td>53929.000000</td>\n",
       "      <td>53929.000000</td>\n",
       "      <td>53929.000000</td>\n",
       "      <td>53929.000000</td>\n",
       "      <td>53929.000000</td>\n",
       "    </tr>\n",
       "    <tr>\n",
       "      <th>mean</th>\n",
       "      <td>0.797868</td>\n",
       "      <td>2.239704</td>\n",
       "      <td>2.594244</td>\n",
       "      <td>4.948896</td>\n",
       "      <td>57.457134</td>\n",
       "      <td>5.731986</td>\n",
       "      <td>5.733796</td>\n",
       "      <td>3.539523</td>\n",
       "    </tr>\n",
       "    <tr>\n",
       "      <th>std</th>\n",
       "      <td>0.473967</td>\n",
       "      <td>1.026882</td>\n",
       "      <td>1.701174</td>\n",
       "      <td>1.647121</td>\n",
       "      <td>2.234069</td>\n",
       "      <td>1.119649</td>\n",
       "      <td>1.111501</td>\n",
       "      <td>0.691693</td>\n",
       "    </tr>\n",
       "    <tr>\n",
       "      <th>min</th>\n",
       "      <td>0.200000</td>\n",
       "      <td>1.000000</td>\n",
       "      <td>0.000000</td>\n",
       "      <td>1.000000</td>\n",
       "      <td>43.000000</td>\n",
       "      <td>3.730000</td>\n",
       "      <td>3.680000</td>\n",
       "      <td>1.070000</td>\n",
       "    </tr>\n",
       "    <tr>\n",
       "      <th>25%</th>\n",
       "      <td>0.400000</td>\n",
       "      <td>1.000000</td>\n",
       "      <td>1.000000</td>\n",
       "      <td>4.000000</td>\n",
       "      <td>56.000000</td>\n",
       "      <td>4.710000</td>\n",
       "      <td>4.720000</td>\n",
       "      <td>2.910000</td>\n",
       "    </tr>\n",
       "    <tr>\n",
       "      <th>50%</th>\n",
       "      <td>0.700000</td>\n",
       "      <td>2.000000</td>\n",
       "      <td>3.000000</td>\n",
       "      <td>5.000000</td>\n",
       "      <td>57.000000</td>\n",
       "      <td>5.700000</td>\n",
       "      <td>5.710000</td>\n",
       "      <td>3.530000</td>\n",
       "    </tr>\n",
       "    <tr>\n",
       "      <th>75%</th>\n",
       "      <td>1.040000</td>\n",
       "      <td>3.000000</td>\n",
       "      <td>4.000000</td>\n",
       "      <td>6.000000</td>\n",
       "      <td>59.000000</td>\n",
       "      <td>6.540000</td>\n",
       "      <td>6.540000</td>\n",
       "      <td>4.040000</td>\n",
       "    </tr>\n",
       "    <tr>\n",
       "      <th>max</th>\n",
       "      <td>5.010000</td>\n",
       "      <td>5.000000</td>\n",
       "      <td>6.000000</td>\n",
       "      <td>8.000000</td>\n",
       "      <td>95.000000</td>\n",
       "      <td>10.740000</td>\n",
       "      <td>10.540000</td>\n",
       "      <td>6.980000</td>\n",
       "    </tr>\n",
       "  </tbody>\n",
       "</table>\n",
       "</div>"
      ],
      "text/plain": [
       "              carat           cut         color       clarity         table  \\\n",
       "count  53929.000000  53929.000000  53929.000000  53929.000000  53929.000000   \n",
       "mean       0.797868      2.239704      2.594244      4.948896     57.457134   \n",
       "std        0.473967      1.026882      1.701174      1.647121      2.234069   \n",
       "min        0.200000      1.000000      0.000000      1.000000     43.000000   \n",
       "25%        0.400000      1.000000      1.000000      4.000000     56.000000   \n",
       "50%        0.700000      2.000000      3.000000      5.000000     57.000000   \n",
       "75%        1.040000      3.000000      4.000000      6.000000     59.000000   \n",
       "max        5.010000      5.000000      6.000000      8.000000     95.000000   \n",
       "\n",
       "                  x             y             z  \n",
       "count  53929.000000  53929.000000  53929.000000  \n",
       "mean       5.731986      5.733796      3.539523  \n",
       "std        1.119649      1.111501      0.691693  \n",
       "min        3.730000      3.680000      1.070000  \n",
       "25%        4.710000      4.720000      2.910000  \n",
       "50%        5.700000      5.710000      3.530000  \n",
       "75%        6.540000      6.540000      4.040000  \n",
       "max       10.740000     10.540000      6.980000  "
      ]
     },
     "execution_count": 406,
     "metadata": {},
     "output_type": "execute_result"
    }
   ],
   "source": [
    "X.describe()"
   ]
  },
  {
   "cell_type": "code",
   "execution_count": 407,
   "id": "fd8951ca",
   "metadata": {},
   "outputs": [],
   "source": [
    "from sklearn.preprocessing import MinMaxScaler"
   ]
  },
  {
   "cell_type": "code",
   "execution_count": 408,
   "id": "9333c1e8",
   "metadata": {},
   "outputs": [],
   "source": [
    "min_max_scaler = MinMaxScaler(feature_range= (0,1))"
   ]
  },
  {
   "cell_type": "code",
   "execution_count": 409,
   "id": "828698cc",
   "metadata": {},
   "outputs": [],
   "source": [
    "X = min_max_scaler.fit_transform(X)"
   ]
  },
  {
   "cell_type": "code",
   "execution_count": 410,
   "id": "0c4c1877",
   "metadata": {},
   "outputs": [
    {
     "data": {
      "text/plain": [
       "numpy.ndarray"
      ]
     },
     "execution_count": 410,
     "metadata": {},
     "output_type": "execute_result"
    }
   ],
   "source": [
    "type(X) "
   ]
  },
  {
   "cell_type": "code",
   "execution_count": 411,
   "id": "f7976685",
   "metadata": {},
   "outputs": [
    {
     "data": {
      "text/plain": [
       "Index(['carat', 'cut', 'color', 'clarity', 'table', 'x', 'y', 'z',\n",
       "       'price_new'],\n",
       "      dtype='object')"
      ]
     },
     "execution_count": 411,
     "metadata": {},
     "output_type": "execute_result"
    }
   ],
   "source": [
    "data2.columns"
   ]
  },
  {
   "cell_type": "code",
   "execution_count": 412,
   "id": "304eea50",
   "metadata": {},
   "outputs": [],
   "source": [
    "X = pd.DataFrame(X , columns = ['carat', 'cut', 'color', 'clarity', 'table', 'x', 'y', 'z'])"
   ]
  },
  {
   "cell_type": "code",
   "execution_count": 413,
   "id": "b31bebe5",
   "metadata": {},
   "outputs": [
    {
     "data": {
      "text/html": [
       "<div>\n",
       "<style scoped>\n",
       "    .dataframe tbody tr th:only-of-type {\n",
       "        vertical-align: middle;\n",
       "    }\n",
       "\n",
       "    .dataframe tbody tr th {\n",
       "        vertical-align: top;\n",
       "    }\n",
       "\n",
       "    .dataframe thead th {\n",
       "        text-align: right;\n",
       "    }\n",
       "</style>\n",
       "<table border=\"1\" class=\"dataframe\">\n",
       "  <thead>\n",
       "    <tr style=\"text-align: right;\">\n",
       "      <th></th>\n",
       "      <th>carat</th>\n",
       "      <th>cut</th>\n",
       "      <th>color</th>\n",
       "      <th>clarity</th>\n",
       "      <th>table</th>\n",
       "      <th>x</th>\n",
       "      <th>y</th>\n",
       "      <th>z</th>\n",
       "    </tr>\n",
       "  </thead>\n",
       "  <tbody>\n",
       "    <tr>\n",
       "      <th>count</th>\n",
       "      <td>53929.000000</td>\n",
       "      <td>53929.000000</td>\n",
       "      <td>53929.000000</td>\n",
       "      <td>53929.000000</td>\n",
       "      <td>53929.000000</td>\n",
       "      <td>53929.000000</td>\n",
       "      <td>53929.000000</td>\n",
       "      <td>53929.000000</td>\n",
       "    </tr>\n",
       "    <tr>\n",
       "      <th>mean</th>\n",
       "      <td>0.124297</td>\n",
       "      <td>0.309926</td>\n",
       "      <td>0.432374</td>\n",
       "      <td>0.564128</td>\n",
       "      <td>0.278022</td>\n",
       "      <td>0.285590</td>\n",
       "      <td>0.299387</td>\n",
       "      <td>0.417855</td>\n",
       "    </tr>\n",
       "    <tr>\n",
       "      <th>std</th>\n",
       "      <td>0.098538</td>\n",
       "      <td>0.256720</td>\n",
       "      <td>0.283529</td>\n",
       "      <td>0.235303</td>\n",
       "      <td>0.042963</td>\n",
       "      <td>0.159722</td>\n",
       "      <td>0.162026</td>\n",
       "      <td>0.117038</td>\n",
       "    </tr>\n",
       "    <tr>\n",
       "      <th>min</th>\n",
       "      <td>0.000000</td>\n",
       "      <td>0.000000</td>\n",
       "      <td>0.000000</td>\n",
       "      <td>0.000000</td>\n",
       "      <td>0.000000</td>\n",
       "      <td>0.000000</td>\n",
       "      <td>0.000000</td>\n",
       "      <td>0.000000</td>\n",
       "    </tr>\n",
       "    <tr>\n",
       "      <th>25%</th>\n",
       "      <td>0.041580</td>\n",
       "      <td>0.000000</td>\n",
       "      <td>0.166667</td>\n",
       "      <td>0.428571</td>\n",
       "      <td>0.250000</td>\n",
       "      <td>0.139800</td>\n",
       "      <td>0.151603</td>\n",
       "      <td>0.311337</td>\n",
       "    </tr>\n",
       "    <tr>\n",
       "      <th>50%</th>\n",
       "      <td>0.103950</td>\n",
       "      <td>0.250000</td>\n",
       "      <td>0.500000</td>\n",
       "      <td>0.571429</td>\n",
       "      <td>0.269231</td>\n",
       "      <td>0.281027</td>\n",
       "      <td>0.295918</td>\n",
       "      <td>0.416244</td>\n",
       "    </tr>\n",
       "    <tr>\n",
       "      <th>75%</th>\n",
       "      <td>0.174636</td>\n",
       "      <td>0.500000</td>\n",
       "      <td>0.666667</td>\n",
       "      <td>0.714286</td>\n",
       "      <td>0.307692</td>\n",
       "      <td>0.400856</td>\n",
       "      <td>0.416910</td>\n",
       "      <td>0.502538</td>\n",
       "    </tr>\n",
       "    <tr>\n",
       "      <th>max</th>\n",
       "      <td>1.000000</td>\n",
       "      <td>1.000000</td>\n",
       "      <td>1.000000</td>\n",
       "      <td>1.000000</td>\n",
       "      <td>1.000000</td>\n",
       "      <td>1.000000</td>\n",
       "      <td>1.000000</td>\n",
       "      <td>1.000000</td>\n",
       "    </tr>\n",
       "  </tbody>\n",
       "</table>\n",
       "</div>"
      ],
      "text/plain": [
       "              carat           cut         color       clarity         table  \\\n",
       "count  53929.000000  53929.000000  53929.000000  53929.000000  53929.000000   \n",
       "mean       0.124297      0.309926      0.432374      0.564128      0.278022   \n",
       "std        0.098538      0.256720      0.283529      0.235303      0.042963   \n",
       "min        0.000000      0.000000      0.000000      0.000000      0.000000   \n",
       "25%        0.041580      0.000000      0.166667      0.428571      0.250000   \n",
       "50%        0.103950      0.250000      0.500000      0.571429      0.269231   \n",
       "75%        0.174636      0.500000      0.666667      0.714286      0.307692   \n",
       "max        1.000000      1.000000      1.000000      1.000000      1.000000   \n",
       "\n",
       "                  x             y             z  \n",
       "count  53929.000000  53929.000000  53929.000000  \n",
       "mean       0.285590      0.299387      0.417855  \n",
       "std        0.159722      0.162026      0.117038  \n",
       "min        0.000000      0.000000      0.000000  \n",
       "25%        0.139800      0.151603      0.311337  \n",
       "50%        0.281027      0.295918      0.416244  \n",
       "75%        0.400856      0.416910      0.502538  \n",
       "max        1.000000      1.000000      1.000000  "
      ]
     },
     "execution_count": 413,
     "metadata": {},
     "output_type": "execute_result"
    }
   ],
   "source": [
    "X.describe()"
   ]
  },
  {
   "cell_type": "code",
   "execution_count": 414,
   "id": "79cf8b68",
   "metadata": {},
   "outputs": [
    {
     "data": {
      "text/plain": [
       "(53929, 8)"
      ]
     },
     "execution_count": 414,
     "metadata": {},
     "output_type": "execute_result"
    }
   ],
   "source": [
    "X.shape"
   ]
  },
  {
   "cell_type": "code",
   "execution_count": 415,
   "id": "dc9274a2",
   "metadata": {},
   "outputs": [],
   "source": [
    "X_train , X_test , y_train , y_test = train_test_split( X , y , random_state =42 , test_size = 0.2 )"
   ]
  },
  {
   "cell_type": "code",
   "execution_count": 416,
   "id": "c2196bbb",
   "metadata": {},
   "outputs": [],
   "source": [
    "lr = LinearRegression()\n",
    "model = lr.fit(X_train , y_train)\n",
    "predction = model.predict(X_test)"
   ]
  },
  {
   "cell_type": "code",
   "execution_count": 417,
   "id": "0cf7e7df",
   "metadata": {},
   "outputs": [
    {
     "name": "stdout",
     "output_type": "stream",
     "text": [
      " Mean Squared Error is :  359579.01021351834\n",
      " R- Squared value is :  0.9087966448887861\n"
     ]
    }
   ],
   "source": [
    "print(\" Mean Squared Error is : \" , mean_squared_error( y_test ,predction ) )\n",
    "print ( \" R- Squared value is : \" , r2_score ( y_test ,predction ) )"
   ]
  },
  {
   "cell_type": "code",
   "execution_count": 418,
   "id": "e74fe75e",
   "metadata": {},
   "outputs": [],
   "source": [
    "# There is no effect on the data."
   ]
  },
  {
   "cell_type": "code",
   "execution_count": 419,
   "id": "56d3d9ff",
   "metadata": {},
   "outputs": [],
   "source": [
    "# STANDARD SCALING"
   ]
  },
  {
   "cell_type": "code",
   "execution_count": 420,
   "id": "aed964c0",
   "metadata": {},
   "outputs": [],
   "source": [
    "X = data2.drop('price_new' , axis =1)\n",
    "y = data2['price_new']"
   ]
  },
  {
   "cell_type": "code",
   "execution_count": 421,
   "id": "93501476",
   "metadata": {},
   "outputs": [
    {
     "data": {
      "text/html": [
       "<div>\n",
       "<style scoped>\n",
       "    .dataframe tbody tr th:only-of-type {\n",
       "        vertical-align: middle;\n",
       "    }\n",
       "\n",
       "    .dataframe tbody tr th {\n",
       "        vertical-align: top;\n",
       "    }\n",
       "\n",
       "    .dataframe thead th {\n",
       "        text-align: right;\n",
       "    }\n",
       "</style>\n",
       "<table border=\"1\" class=\"dataframe\">\n",
       "  <thead>\n",
       "    <tr style=\"text-align: right;\">\n",
       "      <th></th>\n",
       "      <th>carat</th>\n",
       "      <th>cut</th>\n",
       "      <th>color</th>\n",
       "      <th>clarity</th>\n",
       "      <th>table</th>\n",
       "      <th>x</th>\n",
       "      <th>y</th>\n",
       "      <th>z</th>\n",
       "    </tr>\n",
       "  </thead>\n",
       "  <tbody>\n",
       "    <tr>\n",
       "      <th>count</th>\n",
       "      <td>53929.000000</td>\n",
       "      <td>53929.000000</td>\n",
       "      <td>53929.000000</td>\n",
       "      <td>53929.000000</td>\n",
       "      <td>53929.000000</td>\n",
       "      <td>53929.000000</td>\n",
       "      <td>53929.000000</td>\n",
       "      <td>53929.000000</td>\n",
       "    </tr>\n",
       "    <tr>\n",
       "      <th>mean</th>\n",
       "      <td>0.797868</td>\n",
       "      <td>2.239704</td>\n",
       "      <td>2.594244</td>\n",
       "      <td>4.948896</td>\n",
       "      <td>57.457134</td>\n",
       "      <td>5.731986</td>\n",
       "      <td>5.733796</td>\n",
       "      <td>3.539523</td>\n",
       "    </tr>\n",
       "    <tr>\n",
       "      <th>std</th>\n",
       "      <td>0.473967</td>\n",
       "      <td>1.026882</td>\n",
       "      <td>1.701174</td>\n",
       "      <td>1.647121</td>\n",
       "      <td>2.234069</td>\n",
       "      <td>1.119649</td>\n",
       "      <td>1.111501</td>\n",
       "      <td>0.691693</td>\n",
       "    </tr>\n",
       "    <tr>\n",
       "      <th>min</th>\n",
       "      <td>0.200000</td>\n",
       "      <td>1.000000</td>\n",
       "      <td>0.000000</td>\n",
       "      <td>1.000000</td>\n",
       "      <td>43.000000</td>\n",
       "      <td>3.730000</td>\n",
       "      <td>3.680000</td>\n",
       "      <td>1.070000</td>\n",
       "    </tr>\n",
       "    <tr>\n",
       "      <th>25%</th>\n",
       "      <td>0.400000</td>\n",
       "      <td>1.000000</td>\n",
       "      <td>1.000000</td>\n",
       "      <td>4.000000</td>\n",
       "      <td>56.000000</td>\n",
       "      <td>4.710000</td>\n",
       "      <td>4.720000</td>\n",
       "      <td>2.910000</td>\n",
       "    </tr>\n",
       "    <tr>\n",
       "      <th>50%</th>\n",
       "      <td>0.700000</td>\n",
       "      <td>2.000000</td>\n",
       "      <td>3.000000</td>\n",
       "      <td>5.000000</td>\n",
       "      <td>57.000000</td>\n",
       "      <td>5.700000</td>\n",
       "      <td>5.710000</td>\n",
       "      <td>3.530000</td>\n",
       "    </tr>\n",
       "    <tr>\n",
       "      <th>75%</th>\n",
       "      <td>1.040000</td>\n",
       "      <td>3.000000</td>\n",
       "      <td>4.000000</td>\n",
       "      <td>6.000000</td>\n",
       "      <td>59.000000</td>\n",
       "      <td>6.540000</td>\n",
       "      <td>6.540000</td>\n",
       "      <td>4.040000</td>\n",
       "    </tr>\n",
       "    <tr>\n",
       "      <th>max</th>\n",
       "      <td>5.010000</td>\n",
       "      <td>5.000000</td>\n",
       "      <td>6.000000</td>\n",
       "      <td>8.000000</td>\n",
       "      <td>95.000000</td>\n",
       "      <td>10.740000</td>\n",
       "      <td>10.540000</td>\n",
       "      <td>6.980000</td>\n",
       "    </tr>\n",
       "  </tbody>\n",
       "</table>\n",
       "</div>"
      ],
      "text/plain": [
       "              carat           cut         color       clarity         table  \\\n",
       "count  53929.000000  53929.000000  53929.000000  53929.000000  53929.000000   \n",
       "mean       0.797868      2.239704      2.594244      4.948896     57.457134   \n",
       "std        0.473967      1.026882      1.701174      1.647121      2.234069   \n",
       "min        0.200000      1.000000      0.000000      1.000000     43.000000   \n",
       "25%        0.400000      1.000000      1.000000      4.000000     56.000000   \n",
       "50%        0.700000      2.000000      3.000000      5.000000     57.000000   \n",
       "75%        1.040000      3.000000      4.000000      6.000000     59.000000   \n",
       "max        5.010000      5.000000      6.000000      8.000000     95.000000   \n",
       "\n",
       "                  x             y             z  \n",
       "count  53929.000000  53929.000000  53929.000000  \n",
       "mean       5.731986      5.733796      3.539523  \n",
       "std        1.119649      1.111501      0.691693  \n",
       "min        3.730000      3.680000      1.070000  \n",
       "25%        4.710000      4.720000      2.910000  \n",
       "50%        5.700000      5.710000      3.530000  \n",
       "75%        6.540000      6.540000      4.040000  \n",
       "max       10.740000     10.540000      6.980000  "
      ]
     },
     "execution_count": 421,
     "metadata": {},
     "output_type": "execute_result"
    }
   ],
   "source": [
    "X.describe()"
   ]
  },
  {
   "cell_type": "code",
   "execution_count": 422,
   "id": "50f08ea0",
   "metadata": {},
   "outputs": [],
   "source": [
    "from sklearn.preprocessing import StandardScaler"
   ]
  },
  {
   "cell_type": "code",
   "execution_count": 423,
   "id": "4cea5470",
   "metadata": {},
   "outputs": [],
   "source": [
    "std_scl = StandardScaler()"
   ]
  },
  {
   "cell_type": "code",
   "execution_count": 424,
   "id": "b81a291a",
   "metadata": {},
   "outputs": [],
   "source": [
    "X = std_scl.fit_transform(X) "
   ]
  },
  {
   "cell_type": "code",
   "execution_count": 425,
   "id": "b7fe09ad",
   "metadata": {},
   "outputs": [
    {
     "data": {
      "text/plain": [
       "numpy.ndarray"
      ]
     },
     "execution_count": 425,
     "metadata": {},
     "output_type": "execute_result"
    }
   ],
   "source": [
    "type(X)"
   ]
  },
  {
   "cell_type": "code",
   "execution_count": 426,
   "id": "abab8b62",
   "metadata": {},
   "outputs": [],
   "source": [
    "X = pd.DataFrame(X , columns = ['carat', 'cut', 'color', 'clarity', 'table', 'x', 'y', 'z'])"
   ]
  },
  {
   "cell_type": "code",
   "execution_count": 427,
   "id": "894b711a",
   "metadata": {},
   "outputs": [
    {
     "data": {
      "text/html": [
       "<div>\n",
       "<style scoped>\n",
       "    .dataframe tbody tr th:only-of-type {\n",
       "        vertical-align: middle;\n",
       "    }\n",
       "\n",
       "    .dataframe tbody tr th {\n",
       "        vertical-align: top;\n",
       "    }\n",
       "\n",
       "    .dataframe thead th {\n",
       "        text-align: right;\n",
       "    }\n",
       "</style>\n",
       "<table border=\"1\" class=\"dataframe\">\n",
       "  <thead>\n",
       "    <tr style=\"text-align: right;\">\n",
       "      <th></th>\n",
       "      <th>carat</th>\n",
       "      <th>cut</th>\n",
       "      <th>color</th>\n",
       "      <th>clarity</th>\n",
       "      <th>table</th>\n",
       "      <th>x</th>\n",
       "      <th>y</th>\n",
       "      <th>z</th>\n",
       "    </tr>\n",
       "  </thead>\n",
       "  <tbody>\n",
       "    <tr>\n",
       "      <th>0</th>\n",
       "      <td>-1.198127</td>\n",
       "      <td>-0.233431</td>\n",
       "      <td>-0.937152</td>\n",
       "      <td>1.245277</td>\n",
       "      <td>-1.099857</td>\n",
       "      <td>-1.591572</td>\n",
       "      <td>-1.577876</td>\n",
       "      <td>-1.604082</td>\n",
       "    </tr>\n",
       "    <tr>\n",
       "      <th>1</th>\n",
       "      <td>-1.240324</td>\n",
       "      <td>-1.207262</td>\n",
       "      <td>-0.937152</td>\n",
       "      <td>0.638152</td>\n",
       "      <td>1.585850</td>\n",
       "      <td>-1.645161</td>\n",
       "      <td>-1.703833</td>\n",
       "      <td>-1.777571</td>\n",
       "    </tr>\n",
       "    <tr>\n",
       "      <th>2</th>\n",
       "      <td>-1.198127</td>\n",
       "      <td>1.714230</td>\n",
       "      <td>-0.937152</td>\n",
       "      <td>-0.576099</td>\n",
       "      <td>3.376322</td>\n",
       "      <td>-1.502258</td>\n",
       "      <td>-1.496904</td>\n",
       "      <td>-1.777571</td>\n",
       "    </tr>\n",
       "    <tr>\n",
       "      <th>3</th>\n",
       "      <td>-1.071534</td>\n",
       "      <td>-1.207262</td>\n",
       "      <td>1.414187</td>\n",
       "      <td>0.031027</td>\n",
       "      <td>0.242996</td>\n",
       "      <td>-1.368286</td>\n",
       "      <td>-1.352953</td>\n",
       "      <td>-1.314934</td>\n",
       "    </tr>\n",
       "    <tr>\n",
       "      <th>4</th>\n",
       "      <td>-1.029337</td>\n",
       "      <td>1.714230</td>\n",
       "      <td>2.002022</td>\n",
       "      <td>1.245277</td>\n",
       "      <td>0.242996</td>\n",
       "      <td>-1.243245</td>\n",
       "      <td>-1.244990</td>\n",
       "      <td>-1.141445</td>\n",
       "    </tr>\n",
       "  </tbody>\n",
       "</table>\n",
       "</div>"
      ],
      "text/plain": [
       "      carat       cut     color   clarity     table         x         y  \\\n",
       "0 -1.198127 -0.233431 -0.937152  1.245277 -1.099857 -1.591572 -1.577876   \n",
       "1 -1.240324 -1.207262 -0.937152  0.638152  1.585850 -1.645161 -1.703833   \n",
       "2 -1.198127  1.714230 -0.937152 -0.576099  3.376322 -1.502258 -1.496904   \n",
       "3 -1.071534 -1.207262  1.414187  0.031027  0.242996 -1.368286 -1.352953   \n",
       "4 -1.029337  1.714230  2.002022  1.245277  0.242996 -1.243245 -1.244990   \n",
       "\n",
       "          z  \n",
       "0 -1.604082  \n",
       "1 -1.777571  \n",
       "2 -1.777571  \n",
       "3 -1.314934  \n",
       "4 -1.141445  "
      ]
     },
     "execution_count": 427,
     "metadata": {},
     "output_type": "execute_result"
    }
   ],
   "source": [
    "X.head()"
   ]
  },
  {
   "cell_type": "code",
   "execution_count": 428,
   "id": "1a3b57df",
   "metadata": {},
   "outputs": [],
   "source": [
    "X_train , X_test , y_train , y_test = train_test_split( X , y , random_state =42 , test_size = 0.2 )"
   ]
  },
  {
   "cell_type": "code",
   "execution_count": 429,
   "id": "e142ffa6",
   "metadata": {},
   "outputs": [],
   "source": [
    "lr = LinearRegression()\n",
    "model = lr.fit(X_train , y_train)\n",
    "predction = model.predict(X_test)"
   ]
  },
  {
   "cell_type": "code",
   "execution_count": 430,
   "id": "a80aecdf",
   "metadata": {},
   "outputs": [
    {
     "name": "stdout",
     "output_type": "stream",
     "text": [
      " Mean Squared Error is :  359579.01021351875\n",
      " R- Squared value is :  0.908796644888786\n"
     ]
    }
   ],
   "source": [
    "print(\" Mean Squared Error is : \" , mean_squared_error( y_test ,predction ) )\n",
    "print ( \" R- Squared value is : \" , r2_score ( y_test ,predction ) )"
   ]
  },
  {
   "cell_type": "code",
   "execution_count": 431,
   "id": "1fce3220",
   "metadata": {},
   "outputs": [],
   "source": [
    "# Hence , no effect on the data."
   ]
  },
  {
   "cell_type": "code",
   "execution_count": 432,
   "id": "3d81cb21",
   "metadata": {},
   "outputs": [],
   "source": [
    "# NORMALIZATION"
   ]
  },
  {
   "cell_type": "code",
   "execution_count": 433,
   "id": "0b2c7d07",
   "metadata": {},
   "outputs": [],
   "source": [
    "X = data2.drop('price_new' , axis =1)\n",
    "y = data2['price_new']"
   ]
  },
  {
   "cell_type": "code",
   "execution_count": 434,
   "id": "c3cca4d8",
   "metadata": {},
   "outputs": [],
   "source": [
    "X1 = X.drop(['cut', 'color' , 'clarity'] , axis = 1 )"
   ]
  },
  {
   "cell_type": "code",
   "execution_count": 435,
   "id": "9b7f547f",
   "metadata": {},
   "outputs": [
    {
     "data": {
      "text/html": [
       "<div>\n",
       "<style scoped>\n",
       "    .dataframe tbody tr th:only-of-type {\n",
       "        vertical-align: middle;\n",
       "    }\n",
       "\n",
       "    .dataframe tbody tr th {\n",
       "        vertical-align: top;\n",
       "    }\n",
       "\n",
       "    .dataframe thead th {\n",
       "        text-align: right;\n",
       "    }\n",
       "</style>\n",
       "<table border=\"1\" class=\"dataframe\">\n",
       "  <thead>\n",
       "    <tr style=\"text-align: right;\">\n",
       "      <th></th>\n",
       "      <th>carat</th>\n",
       "      <th>table</th>\n",
       "      <th>x</th>\n",
       "      <th>y</th>\n",
       "      <th>z</th>\n",
       "    </tr>\n",
       "  </thead>\n",
       "  <tbody>\n",
       "    <tr>\n",
       "      <th>0</th>\n",
       "      <td>0.23</td>\n",
       "      <td>55.0</td>\n",
       "      <td>3.95</td>\n",
       "      <td>3.98</td>\n",
       "      <td>2.43</td>\n",
       "    </tr>\n",
       "    <tr>\n",
       "      <th>1</th>\n",
       "      <td>0.21</td>\n",
       "      <td>61.0</td>\n",
       "      <td>3.89</td>\n",
       "      <td>3.84</td>\n",
       "      <td>2.31</td>\n",
       "    </tr>\n",
       "    <tr>\n",
       "      <th>2</th>\n",
       "      <td>0.23</td>\n",
       "      <td>65.0</td>\n",
       "      <td>4.05</td>\n",
       "      <td>4.07</td>\n",
       "      <td>2.31</td>\n",
       "    </tr>\n",
       "    <tr>\n",
       "      <th>3</th>\n",
       "      <td>0.29</td>\n",
       "      <td>58.0</td>\n",
       "      <td>4.20</td>\n",
       "      <td>4.23</td>\n",
       "      <td>2.63</td>\n",
       "    </tr>\n",
       "    <tr>\n",
       "      <th>4</th>\n",
       "      <td>0.31</td>\n",
       "      <td>58.0</td>\n",
       "      <td>4.34</td>\n",
       "      <td>4.35</td>\n",
       "      <td>2.75</td>\n",
       "    </tr>\n",
       "    <tr>\n",
       "      <th>...</th>\n",
       "      <td>...</td>\n",
       "      <td>...</td>\n",
       "      <td>...</td>\n",
       "      <td>...</td>\n",
       "      <td>...</td>\n",
       "    </tr>\n",
       "    <tr>\n",
       "      <th>53935</th>\n",
       "      <td>0.72</td>\n",
       "      <td>57.0</td>\n",
       "      <td>5.75</td>\n",
       "      <td>5.76</td>\n",
       "      <td>3.50</td>\n",
       "    </tr>\n",
       "    <tr>\n",
       "      <th>53936</th>\n",
       "      <td>0.72</td>\n",
       "      <td>55.0</td>\n",
       "      <td>5.69</td>\n",
       "      <td>5.75</td>\n",
       "      <td>3.61</td>\n",
       "    </tr>\n",
       "    <tr>\n",
       "      <th>53937</th>\n",
       "      <td>0.70</td>\n",
       "      <td>60.0</td>\n",
       "      <td>5.66</td>\n",
       "      <td>5.68</td>\n",
       "      <td>3.56</td>\n",
       "    </tr>\n",
       "    <tr>\n",
       "      <th>53938</th>\n",
       "      <td>0.86</td>\n",
       "      <td>58.0</td>\n",
       "      <td>6.15</td>\n",
       "      <td>6.12</td>\n",
       "      <td>3.74</td>\n",
       "    </tr>\n",
       "    <tr>\n",
       "      <th>53939</th>\n",
       "      <td>0.75</td>\n",
       "      <td>55.0</td>\n",
       "      <td>5.83</td>\n",
       "      <td>5.87</td>\n",
       "      <td>3.64</td>\n",
       "    </tr>\n",
       "  </tbody>\n",
       "</table>\n",
       "<p>53929 rows × 5 columns</p>\n",
       "</div>"
      ],
      "text/plain": [
       "       carat  table     x     y     z\n",
       "0       0.23   55.0  3.95  3.98  2.43\n",
       "1       0.21   61.0  3.89  3.84  2.31\n",
       "2       0.23   65.0  4.05  4.07  2.31\n",
       "3       0.29   58.0  4.20  4.23  2.63\n",
       "4       0.31   58.0  4.34  4.35  2.75\n",
       "...      ...    ...   ...   ...   ...\n",
       "53935   0.72   57.0  5.75  5.76  3.50\n",
       "53936   0.72   55.0  5.69  5.75  3.61\n",
       "53937   0.70   60.0  5.66  5.68  3.56\n",
       "53938   0.86   58.0  6.15  6.12  3.74\n",
       "53939   0.75   55.0  5.83  5.87  3.64\n",
       "\n",
       "[53929 rows x 5 columns]"
      ]
     },
     "execution_count": 435,
     "metadata": {},
     "output_type": "execute_result"
    }
   ],
   "source": [
    "X1"
   ]
  },
  {
   "cell_type": "code",
   "execution_count": 436,
   "id": "0a1ee1ff",
   "metadata": {},
   "outputs": [],
   "source": [
    "from sklearn import preprocessing\n",
    "from sklearn.preprocessing import LabelEncoder\n",
    "label_enc = LabelEncoder()  "
   ]
  },
  {
   "cell_type": "code",
   "execution_count": 437,
   "id": "e37b4628",
   "metadata": {},
   "outputs": [],
   "source": [
    "X1 = preprocessing.normalize(X1)"
   ]
  },
  {
   "cell_type": "code",
   "execution_count": 438,
   "id": "0022e41f",
   "metadata": {},
   "outputs": [
    {
     "data": {
      "text/plain": [
       "numpy.ndarray"
      ]
     },
     "execution_count": 438,
     "metadata": {},
     "output_type": "execute_result"
    }
   ],
   "source": [
    "type(X1)"
   ]
  },
  {
   "cell_type": "code",
   "execution_count": 439,
   "id": "32af9257",
   "metadata": {},
   "outputs": [],
   "source": [
    "X1 = pd.DataFrame( X1 , columns = ['carat', 'table', 'x','y','z'])"
   ]
  },
  {
   "cell_type": "code",
   "execution_count": 440,
   "id": "05c89fac",
   "metadata": {},
   "outputs": [
    {
     "data": {
      "text/html": [
       "<div>\n",
       "<style scoped>\n",
       "    .dataframe tbody tr th:only-of-type {\n",
       "        vertical-align: middle;\n",
       "    }\n",
       "\n",
       "    .dataframe tbody tr th {\n",
       "        vertical-align: top;\n",
       "    }\n",
       "\n",
       "    .dataframe thead th {\n",
       "        text-align: right;\n",
       "    }\n",
       "</style>\n",
       "<table border=\"1\" class=\"dataframe\">\n",
       "  <thead>\n",
       "    <tr style=\"text-align: right;\">\n",
       "      <th></th>\n",
       "      <th>carat</th>\n",
       "      <th>table</th>\n",
       "      <th>x</th>\n",
       "      <th>y</th>\n",
       "      <th>z</th>\n",
       "    </tr>\n",
       "  </thead>\n",
       "  <tbody>\n",
       "    <tr>\n",
       "      <th>0</th>\n",
       "      <td>0.004156</td>\n",
       "      <td>0.993875</td>\n",
       "      <td>0.071378</td>\n",
       "      <td>0.071920</td>\n",
       "      <td>0.043911</td>\n",
       "    </tr>\n",
       "    <tr>\n",
       "      <th>1</th>\n",
       "      <td>0.003426</td>\n",
       "      <td>0.995296</td>\n",
       "      <td>0.063470</td>\n",
       "      <td>0.062655</td>\n",
       "      <td>0.037691</td>\n",
       "    </tr>\n",
       "    <tr>\n",
       "      <th>2</th>\n",
       "      <td>0.003523</td>\n",
       "      <td>0.995491</td>\n",
       "      <td>0.062027</td>\n",
       "      <td>0.062333</td>\n",
       "      <td>0.035378</td>\n",
       "    </tr>\n",
       "    <tr>\n",
       "      <th>3</th>\n",
       "      <td>0.004969</td>\n",
       "      <td>0.993737</td>\n",
       "      <td>0.071960</td>\n",
       "      <td>0.072474</td>\n",
       "      <td>0.045061</td>\n",
       "    </tr>\n",
       "    <tr>\n",
       "      <th>4</th>\n",
       "      <td>0.005309</td>\n",
       "      <td>0.993317</td>\n",
       "      <td>0.074328</td>\n",
       "      <td>0.074499</td>\n",
       "      <td>0.047097</td>\n",
       "    </tr>\n",
       "    <tr>\n",
       "      <th>...</th>\n",
       "      <td>...</td>\n",
       "      <td>...</td>\n",
       "      <td>...</td>\n",
       "      <td>...</td>\n",
       "      <td>...</td>\n",
       "    </tr>\n",
       "    <tr>\n",
       "      <th>53924</th>\n",
       "      <td>0.012481</td>\n",
       "      <td>0.988058</td>\n",
       "      <td>0.099673</td>\n",
       "      <td>0.099846</td>\n",
       "      <td>0.060670</td>\n",
       "    </tr>\n",
       "    <tr>\n",
       "      <th>53925</th>\n",
       "      <td>0.012923</td>\n",
       "      <td>0.987194</td>\n",
       "      <td>0.102130</td>\n",
       "      <td>0.103207</td>\n",
       "      <td>0.064796</td>\n",
       "    </tr>\n",
       "    <tr>\n",
       "      <th>53926</th>\n",
       "      <td>0.011543</td>\n",
       "      <td>0.989412</td>\n",
       "      <td>0.093335</td>\n",
       "      <td>0.093664</td>\n",
       "      <td>0.058705</td>\n",
       "    </tr>\n",
       "    <tr>\n",
       "      <th>53927</th>\n",
       "      <td>0.014633</td>\n",
       "      <td>0.986885</td>\n",
       "      <td>0.104644</td>\n",
       "      <td>0.104133</td>\n",
       "      <td>0.063637</td>\n",
       "    </tr>\n",
       "    <tr>\n",
       "      <th>53928</th>\n",
       "      <td>0.013455</td>\n",
       "      <td>0.986675</td>\n",
       "      <td>0.104588</td>\n",
       "      <td>0.105305</td>\n",
       "      <td>0.065300</td>\n",
       "    </tr>\n",
       "  </tbody>\n",
       "</table>\n",
       "<p>53929 rows × 5 columns</p>\n",
       "</div>"
      ],
      "text/plain": [
       "          carat     table         x         y         z\n",
       "0      0.004156  0.993875  0.071378  0.071920  0.043911\n",
       "1      0.003426  0.995296  0.063470  0.062655  0.037691\n",
       "2      0.003523  0.995491  0.062027  0.062333  0.035378\n",
       "3      0.004969  0.993737  0.071960  0.072474  0.045061\n",
       "4      0.005309  0.993317  0.074328  0.074499  0.047097\n",
       "...         ...       ...       ...       ...       ...\n",
       "53924  0.012481  0.988058  0.099673  0.099846  0.060670\n",
       "53925  0.012923  0.987194  0.102130  0.103207  0.064796\n",
       "53926  0.011543  0.989412  0.093335  0.093664  0.058705\n",
       "53927  0.014633  0.986885  0.104644  0.104133  0.063637\n",
       "53928  0.013455  0.986675  0.104588  0.105305  0.065300\n",
       "\n",
       "[53929 rows x 5 columns]"
      ]
     },
     "execution_count": 440,
     "metadata": {},
     "output_type": "execute_result"
    }
   ],
   "source": [
    "X1"
   ]
  },
  {
   "cell_type": "code",
   "execution_count": 441,
   "id": "9c5a608d",
   "metadata": {},
   "outputs": [],
   "source": [
    "X.reset_index(drop=True, inplace=True)\n",
    "X1.reset_index(drop=True, inplace=True)"
   ]
  },
  {
   "cell_type": "code",
   "execution_count": 442,
   "id": "15325567",
   "metadata": {},
   "outputs": [
    {
     "data": {
      "text/html": [
       "<div>\n",
       "<style scoped>\n",
       "    .dataframe tbody tr th:only-of-type {\n",
       "        vertical-align: middle;\n",
       "    }\n",
       "\n",
       "    .dataframe tbody tr th {\n",
       "        vertical-align: top;\n",
       "    }\n",
       "\n",
       "    .dataframe thead th {\n",
       "        text-align: right;\n",
       "    }\n",
       "</style>\n",
       "<table border=\"1\" class=\"dataframe\">\n",
       "  <thead>\n",
       "    <tr style=\"text-align: right;\">\n",
       "      <th></th>\n",
       "      <th>carat</th>\n",
       "      <th>table</th>\n",
       "      <th>x</th>\n",
       "      <th>y</th>\n",
       "      <th>z</th>\n",
       "    </tr>\n",
       "  </thead>\n",
       "  <tbody>\n",
       "    <tr>\n",
       "      <th>count</th>\n",
       "      <td>53929.000000</td>\n",
       "      <td>53929.000000</td>\n",
       "      <td>53929.000000</td>\n",
       "      <td>53929.000000</td>\n",
       "      <td>53929.000000</td>\n",
       "    </tr>\n",
       "    <tr>\n",
       "      <th>mean</th>\n",
       "      <td>0.013643</td>\n",
       "      <td>0.987843</td>\n",
       "      <td>0.098460</td>\n",
       "      <td>0.098497</td>\n",
       "      <td>0.060817</td>\n",
       "    </tr>\n",
       "    <tr>\n",
       "      <th>std</th>\n",
       "      <td>0.007951</td>\n",
       "      <td>0.004671</td>\n",
       "      <td>0.018363</td>\n",
       "      <td>0.018250</td>\n",
       "      <td>0.011445</td>\n",
       "    </tr>\n",
       "    <tr>\n",
       "      <th>min</th>\n",
       "      <td>0.003211</td>\n",
       "      <td>0.959475</td>\n",
       "      <td>0.058395</td>\n",
       "      <td>0.058999</td>\n",
       "      <td>0.018516</td>\n",
       "    </tr>\n",
       "    <tr>\n",
       "      <th>25%</th>\n",
       "      <td>0.006851</td>\n",
       "      <td>0.984728</td>\n",
       "      <td>0.081831</td>\n",
       "      <td>0.081979</td>\n",
       "      <td>0.050527</td>\n",
       "    </tr>\n",
       "    <tr>\n",
       "      <th>50%</th>\n",
       "      <td>0.012100</td>\n",
       "      <td>0.988592</td>\n",
       "      <td>0.097237</td>\n",
       "      <td>0.097309</td>\n",
       "      <td>0.060020</td>\n",
       "    </tr>\n",
       "    <tr>\n",
       "      <th>75%</th>\n",
       "      <td>0.018061</td>\n",
       "      <td>0.991956</td>\n",
       "      <td>0.112200</td>\n",
       "      <td>0.112133</td>\n",
       "      <td>0.069386</td>\n",
       "    </tr>\n",
       "    <tr>\n",
       "      <th>max</th>\n",
       "      <td>0.081474</td>\n",
       "      <td>0.995890</td>\n",
       "      <td>0.174657</td>\n",
       "      <td>0.172524</td>\n",
       "      <td>0.115817</td>\n",
       "    </tr>\n",
       "  </tbody>\n",
       "</table>\n",
       "</div>"
      ],
      "text/plain": [
       "              carat         table             x             y             z\n",
       "count  53929.000000  53929.000000  53929.000000  53929.000000  53929.000000\n",
       "mean       0.013643      0.987843      0.098460      0.098497      0.060817\n",
       "std        0.007951      0.004671      0.018363      0.018250      0.011445\n",
       "min        0.003211      0.959475      0.058395      0.058999      0.018516\n",
       "25%        0.006851      0.984728      0.081831      0.081979      0.050527\n",
       "50%        0.012100      0.988592      0.097237      0.097309      0.060020\n",
       "75%        0.018061      0.991956      0.112200      0.112133      0.069386\n",
       "max        0.081474      0.995890      0.174657      0.172524      0.115817"
      ]
     },
     "execution_count": 442,
     "metadata": {},
     "output_type": "execute_result"
    }
   ],
   "source": [
    "X1.describe()"
   ]
  },
  {
   "cell_type": "code",
   "execution_count": 443,
   "id": "5c78d6db",
   "metadata": {},
   "outputs": [],
   "source": [
    "X = pd.concat([X, X1] , axis = 1 )"
   ]
  },
  {
   "cell_type": "code",
   "execution_count": 444,
   "id": "62ef21a3",
   "metadata": {},
   "outputs": [
    {
     "data": {
      "text/html": [
       "<div>\n",
       "<style scoped>\n",
       "    .dataframe tbody tr th:only-of-type {\n",
       "        vertical-align: middle;\n",
       "    }\n",
       "\n",
       "    .dataframe tbody tr th {\n",
       "        vertical-align: top;\n",
       "    }\n",
       "\n",
       "    .dataframe thead th {\n",
       "        text-align: right;\n",
       "    }\n",
       "</style>\n",
       "<table border=\"1\" class=\"dataframe\">\n",
       "  <thead>\n",
       "    <tr style=\"text-align: right;\">\n",
       "      <th></th>\n",
       "      <th>carat</th>\n",
       "      <th>cut</th>\n",
       "      <th>color</th>\n",
       "      <th>clarity</th>\n",
       "      <th>table</th>\n",
       "      <th>x</th>\n",
       "      <th>y</th>\n",
       "      <th>z</th>\n",
       "      <th>carat</th>\n",
       "      <th>table</th>\n",
       "      <th>x</th>\n",
       "      <th>y</th>\n",
       "      <th>z</th>\n",
       "    </tr>\n",
       "  </thead>\n",
       "  <tbody>\n",
       "    <tr>\n",
       "      <th>0</th>\n",
       "      <td>0.23</td>\n",
       "      <td>2</td>\n",
       "      <td>1</td>\n",
       "      <td>7</td>\n",
       "      <td>55.0</td>\n",
       "      <td>3.95</td>\n",
       "      <td>3.98</td>\n",
       "      <td>2.43</td>\n",
       "      <td>0.004156</td>\n",
       "      <td>0.993875</td>\n",
       "      <td>0.071378</td>\n",
       "      <td>0.071920</td>\n",
       "      <td>0.043911</td>\n",
       "    </tr>\n",
       "    <tr>\n",
       "      <th>1</th>\n",
       "      <td>0.21</td>\n",
       "      <td>1</td>\n",
       "      <td>1</td>\n",
       "      <td>6</td>\n",
       "      <td>61.0</td>\n",
       "      <td>3.89</td>\n",
       "      <td>3.84</td>\n",
       "      <td>2.31</td>\n",
       "      <td>0.003426</td>\n",
       "      <td>0.995296</td>\n",
       "      <td>0.063470</td>\n",
       "      <td>0.062655</td>\n",
       "      <td>0.037691</td>\n",
       "    </tr>\n",
       "    <tr>\n",
       "      <th>2</th>\n",
       "      <td>0.23</td>\n",
       "      <td>4</td>\n",
       "      <td>1</td>\n",
       "      <td>4</td>\n",
       "      <td>65.0</td>\n",
       "      <td>4.05</td>\n",
       "      <td>4.07</td>\n",
       "      <td>2.31</td>\n",
       "      <td>0.003523</td>\n",
       "      <td>0.995491</td>\n",
       "      <td>0.062027</td>\n",
       "      <td>0.062333</td>\n",
       "      <td>0.035378</td>\n",
       "    </tr>\n",
       "    <tr>\n",
       "      <th>3</th>\n",
       "      <td>0.29</td>\n",
       "      <td>1</td>\n",
       "      <td>5</td>\n",
       "      <td>5</td>\n",
       "      <td>58.0</td>\n",
       "      <td>4.20</td>\n",
       "      <td>4.23</td>\n",
       "      <td>2.63</td>\n",
       "      <td>0.004969</td>\n",
       "      <td>0.993737</td>\n",
       "      <td>0.071960</td>\n",
       "      <td>0.072474</td>\n",
       "      <td>0.045061</td>\n",
       "    </tr>\n",
       "    <tr>\n",
       "      <th>4</th>\n",
       "      <td>0.31</td>\n",
       "      <td>4</td>\n",
       "      <td>6</td>\n",
       "      <td>7</td>\n",
       "      <td>58.0</td>\n",
       "      <td>4.34</td>\n",
       "      <td>4.35</td>\n",
       "      <td>2.75</td>\n",
       "      <td>0.005309</td>\n",
       "      <td>0.993317</td>\n",
       "      <td>0.074328</td>\n",
       "      <td>0.074499</td>\n",
       "      <td>0.047097</td>\n",
       "    </tr>\n",
       "    <tr>\n",
       "      <th>...</th>\n",
       "      <td>...</td>\n",
       "      <td>...</td>\n",
       "      <td>...</td>\n",
       "      <td>...</td>\n",
       "      <td>...</td>\n",
       "      <td>...</td>\n",
       "      <td>...</td>\n",
       "      <td>...</td>\n",
       "      <td>...</td>\n",
       "      <td>...</td>\n",
       "      <td>...</td>\n",
       "      <td>...</td>\n",
       "      <td>...</td>\n",
       "    </tr>\n",
       "    <tr>\n",
       "      <th>53924</th>\n",
       "      <td>0.72</td>\n",
       "      <td>2</td>\n",
       "      <td>0</td>\n",
       "      <td>6</td>\n",
       "      <td>57.0</td>\n",
       "      <td>5.75</td>\n",
       "      <td>5.76</td>\n",
       "      <td>3.50</td>\n",
       "      <td>0.012481</td>\n",
       "      <td>0.988058</td>\n",
       "      <td>0.099673</td>\n",
       "      <td>0.099846</td>\n",
       "      <td>0.060670</td>\n",
       "    </tr>\n",
       "    <tr>\n",
       "      <th>53925</th>\n",
       "      <td>0.72</td>\n",
       "      <td>4</td>\n",
       "      <td>0</td>\n",
       "      <td>6</td>\n",
       "      <td>55.0</td>\n",
       "      <td>5.69</td>\n",
       "      <td>5.75</td>\n",
       "      <td>3.61</td>\n",
       "      <td>0.012923</td>\n",
       "      <td>0.987194</td>\n",
       "      <td>0.102130</td>\n",
       "      <td>0.103207</td>\n",
       "      <td>0.064796</td>\n",
       "    </tr>\n",
       "    <tr>\n",
       "      <th>53926</th>\n",
       "      <td>0.70</td>\n",
       "      <td>3</td>\n",
       "      <td>0</td>\n",
       "      <td>6</td>\n",
       "      <td>60.0</td>\n",
       "      <td>5.66</td>\n",
       "      <td>5.68</td>\n",
       "      <td>3.56</td>\n",
       "      <td>0.011543</td>\n",
       "      <td>0.989412</td>\n",
       "      <td>0.093335</td>\n",
       "      <td>0.093664</td>\n",
       "      <td>0.058705</td>\n",
       "    </tr>\n",
       "    <tr>\n",
       "      <th>53927</th>\n",
       "      <td>0.86</td>\n",
       "      <td>1</td>\n",
       "      <td>4</td>\n",
       "      <td>7</td>\n",
       "      <td>58.0</td>\n",
       "      <td>6.15</td>\n",
       "      <td>6.12</td>\n",
       "      <td>3.74</td>\n",
       "      <td>0.014633</td>\n",
       "      <td>0.986885</td>\n",
       "      <td>0.104644</td>\n",
       "      <td>0.104133</td>\n",
       "      <td>0.063637</td>\n",
       "    </tr>\n",
       "    <tr>\n",
       "      <th>53928</th>\n",
       "      <td>0.75</td>\n",
       "      <td>2</td>\n",
       "      <td>0</td>\n",
       "      <td>7</td>\n",
       "      <td>55.0</td>\n",
       "      <td>5.83</td>\n",
       "      <td>5.87</td>\n",
       "      <td>3.64</td>\n",
       "      <td>0.013455</td>\n",
       "      <td>0.986675</td>\n",
       "      <td>0.104588</td>\n",
       "      <td>0.105305</td>\n",
       "      <td>0.065300</td>\n",
       "    </tr>\n",
       "  </tbody>\n",
       "</table>\n",
       "<p>53929 rows × 13 columns</p>\n",
       "</div>"
      ],
      "text/plain": [
       "       carat  cut  color  clarity  table     x     y     z     carat  \\\n",
       "0       0.23    2      1        7   55.0  3.95  3.98  2.43  0.004156   \n",
       "1       0.21    1      1        6   61.0  3.89  3.84  2.31  0.003426   \n",
       "2       0.23    4      1        4   65.0  4.05  4.07  2.31  0.003523   \n",
       "3       0.29    1      5        5   58.0  4.20  4.23  2.63  0.004969   \n",
       "4       0.31    4      6        7   58.0  4.34  4.35  2.75  0.005309   \n",
       "...      ...  ...    ...      ...    ...   ...   ...   ...       ...   \n",
       "53924   0.72    2      0        6   57.0  5.75  5.76  3.50  0.012481   \n",
       "53925   0.72    4      0        6   55.0  5.69  5.75  3.61  0.012923   \n",
       "53926   0.70    3      0        6   60.0  5.66  5.68  3.56  0.011543   \n",
       "53927   0.86    1      4        7   58.0  6.15  6.12  3.74  0.014633   \n",
       "53928   0.75    2      0        7   55.0  5.83  5.87  3.64  0.013455   \n",
       "\n",
       "          table         x         y         z  \n",
       "0      0.993875  0.071378  0.071920  0.043911  \n",
       "1      0.995296  0.063470  0.062655  0.037691  \n",
       "2      0.995491  0.062027  0.062333  0.035378  \n",
       "3      0.993737  0.071960  0.072474  0.045061  \n",
       "4      0.993317  0.074328  0.074499  0.047097  \n",
       "...         ...       ...       ...       ...  \n",
       "53924  0.988058  0.099673  0.099846  0.060670  \n",
       "53925  0.987194  0.102130  0.103207  0.064796  \n",
       "53926  0.989412  0.093335  0.093664  0.058705  \n",
       "53927  0.986885  0.104644  0.104133  0.063637  \n",
       "53928  0.986675  0.104588  0.105305  0.065300  \n",
       "\n",
       "[53929 rows x 13 columns]"
      ]
     },
     "execution_count": 444,
     "metadata": {},
     "output_type": "execute_result"
    }
   ],
   "source": [
    "X"
   ]
  },
  {
   "cell_type": "code",
   "execution_count": 445,
   "id": "b9b4a8cc",
   "metadata": {},
   "outputs": [],
   "source": [
    "from sklearn.model_selection import train_test_split            \n",
    "X_train , X_test , y_train , y_test = train_test_split(X, y , random_state = 42 , test_size =0.20)"
   ]
  },
  {
   "cell_type": "code",
   "execution_count": 446,
   "id": "156aa6c1",
   "metadata": {},
   "outputs": [],
   "source": [
    "from sklearn import linear_model"
   ]
  },
  {
   "cell_type": "code",
   "execution_count": 447,
   "id": "fc72513d",
   "metadata": {},
   "outputs": [],
   "source": [
    "lr = linear_model.LinearRegression()\n",
    "model = lr.fit(X_train , y_train)\n",
    "prediction = model.predict(X_test) "
   ]
  },
  {
   "cell_type": "code",
   "execution_count": 448,
   "id": "3b5102bb",
   "metadata": {},
   "outputs": [],
   "source": [
    "from sklearn.metrics import mean_squared_error"
   ]
  },
  {
   "cell_type": "code",
   "execution_count": 449,
   "id": "d55b76ab",
   "metadata": {},
   "outputs": [
    {
     "name": "stdout",
     "output_type": "stream",
     "text": [
      " MSE =  343714.6451045928\n",
      " R- Squared value is :  0.908796644888786\n"
     ]
    }
   ],
   "source": [
    "print(\" MSE = \" , mean_squared_error(y_test , prediction))\n",
    "print ( \" R- Squared value is : \" , r2_score ( y_test ,predction ) )"
   ]
  },
  {
   "cell_type": "code",
   "execution_count": 450,
   "id": "5bbd166f",
   "metadata": {},
   "outputs": [],
   "source": [
    "# CORRELATION"
   ]
  },
  {
   "cell_type": "code",
   "execution_count": 451,
   "id": "1ed052ad",
   "metadata": {},
   "outputs": [],
   "source": [
    "corrmatrix = data.corr()"
   ]
  },
  {
   "cell_type": "code",
   "execution_count": 452,
   "id": "dcd97cc3",
   "metadata": {},
   "outputs": [
    {
     "data": {
      "text/plain": [
       "<AxesSubplot:>"
      ]
     },
     "execution_count": 452,
     "metadata": {},
     "output_type": "execute_result"
    },
    {
     "data": {
      "image/png": "[encoded data removed]",
      "text/plain": [
       "<Figure size 1440x576 with 2 Axes>"
      ]
     },
     "metadata": {
      "needs_background": "light"
     },
     "output_type": "display_data"
    }
   ],
   "source": [
    "plt.subplots(figsize = (20,8))\n",
    "sns.heatmap(corrmatrix , vmin = -0.4 , vmax = 0.9 , linewidth = 0.2 , annot =True , cmap = 'Greens') "
   ]
  }
 ],
 "metadata": {
  "kernelspec": {
   "display_name": "Python 3 (ipykernel)",
   "language": "python",
   "name": "python3"
  },
  "language_info": {
   "codemirror_mode": {
    "name": "ipython",
    "version": 3
   },
   "file_extension": ".py",
   "mimetype": "text/x-python",
   "name": "python",
   "nbconvert_exporter": "python",
   "pygments_lexer": "ipython3",
   "version": "3.9.12"
  }
 },
 "nbformat": 4,
 "nbformat_minor": 5
}
